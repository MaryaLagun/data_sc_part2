{
  "nbformat": 4,
  "nbformat_minor": 0,
  "metadata": {
    "colab": {
      "provenance": []
    },
    "kernelspec": {
      "name": "python3",
      "display_name": "Python 3"
    },
    "language_info": {
      "name": "python"
    }
  },
  "cells": [
    {
      "cell_type": "code",
      "execution_count": 44,
      "metadata": {
        "colab": {
          "base_uri": "https://localhost:8080/"
        },
        "id": "pdafhgPZpj1y",
        "outputId": "36de8c4a-c336-414b-cd86-f6c02333a231"
      },
      "outputs": [
        {
          "output_type": "stream",
          "name": "stdout",
          "text": [
            "Requirement already satisfied: spacy in /usr/local/lib/python3.10/dist-packages (3.7.5)\n",
            "Requirement already satisfied: spacy-legacy<3.1.0,>=3.0.11 in /usr/local/lib/python3.10/dist-packages (from spacy) (3.0.12)\n",
            "Requirement already satisfied: spacy-loggers<2.0.0,>=1.0.0 in /usr/local/lib/python3.10/dist-packages (from spacy) (1.0.5)\n",
            "Requirement already satisfied: murmurhash<1.1.0,>=0.28.0 in /usr/local/lib/python3.10/dist-packages (from spacy) (1.0.11)\n",
            "Requirement already satisfied: cymem<2.1.0,>=2.0.2 in /usr/local/lib/python3.10/dist-packages (from spacy) (2.0.10)\n",
            "Requirement already satisfied: preshed<3.1.0,>=3.0.2 in /usr/local/lib/python3.10/dist-packages (from spacy) (3.0.9)\n",
            "Requirement already satisfied: thinc<8.3.0,>=8.2.2 in /usr/local/lib/python3.10/dist-packages (from spacy) (8.2.5)\n",
            "Requirement already satisfied: wasabi<1.2.0,>=0.9.1 in /usr/local/lib/python3.10/dist-packages (from spacy) (1.1.3)\n",
            "Requirement already satisfied: srsly<3.0.0,>=2.4.3 in /usr/local/lib/python3.10/dist-packages (from spacy) (2.5.0)\n",
            "Requirement already satisfied: catalogue<2.1.0,>=2.0.6 in /usr/local/lib/python3.10/dist-packages (from spacy) (2.0.10)\n",
            "Requirement already satisfied: weasel<0.5.0,>=0.1.0 in /usr/local/lib/python3.10/dist-packages (from spacy) (0.4.1)\n",
            "Requirement already satisfied: typer<1.0.0,>=0.3.0 in /usr/local/lib/python3.10/dist-packages (from spacy) (0.15.1)\n",
            "Requirement already satisfied: tqdm<5.0.0,>=4.38.0 in /usr/local/lib/python3.10/dist-packages (from spacy) (4.66.6)\n",
            "Requirement already satisfied: requests<3.0.0,>=2.13.0 in /usr/local/lib/python3.10/dist-packages (from spacy) (2.32.3)\n",
            "Requirement already satisfied: pydantic!=1.8,!=1.8.1,<3.0.0,>=1.7.4 in /usr/local/lib/python3.10/dist-packages (from spacy) (2.10.3)\n",
            "Requirement already satisfied: jinja2 in /usr/local/lib/python3.10/dist-packages (from spacy) (3.1.4)\n",
            "Requirement already satisfied: setuptools in /usr/local/lib/python3.10/dist-packages (from spacy) (75.1.0)\n",
            "Requirement already satisfied: packaging>=20.0 in /usr/local/lib/python3.10/dist-packages (from spacy) (24.2)\n",
            "Requirement already satisfied: langcodes<4.0.0,>=3.2.0 in /usr/local/lib/python3.10/dist-packages (from spacy) (3.5.0)\n",
            "Requirement already satisfied: numpy>=1.19.0 in /usr/local/lib/python3.10/dist-packages (from spacy) (1.26.4)\n",
            "Requirement already satisfied: language-data>=1.2 in /usr/local/lib/python3.10/dist-packages (from langcodes<4.0.0,>=3.2.0->spacy) (1.3.0)\n",
            "Requirement already satisfied: annotated-types>=0.6.0 in /usr/local/lib/python3.10/dist-packages (from pydantic!=1.8,!=1.8.1,<3.0.0,>=1.7.4->spacy) (0.7.0)\n",
            "Requirement already satisfied: pydantic-core==2.27.1 in /usr/local/lib/python3.10/dist-packages (from pydantic!=1.8,!=1.8.1,<3.0.0,>=1.7.4->spacy) (2.27.1)\n",
            "Requirement already satisfied: typing-extensions>=4.12.2 in /usr/local/lib/python3.10/dist-packages (from pydantic!=1.8,!=1.8.1,<3.0.0,>=1.7.4->spacy) (4.12.2)\n",
            "Requirement already satisfied: charset-normalizer<4,>=2 in /usr/local/lib/python3.10/dist-packages (from requests<3.0.0,>=2.13.0->spacy) (3.4.0)\n",
            "Requirement already satisfied: idna<4,>=2.5 in /usr/local/lib/python3.10/dist-packages (from requests<3.0.0,>=2.13.0->spacy) (3.10)\n",
            "Requirement already satisfied: urllib3<3,>=1.21.1 in /usr/local/lib/python3.10/dist-packages (from requests<3.0.0,>=2.13.0->spacy) (2.2.3)\n",
            "Requirement already satisfied: certifi>=2017.4.17 in /usr/local/lib/python3.10/dist-packages (from requests<3.0.0,>=2.13.0->spacy) (2024.8.30)\n",
            "Requirement already satisfied: blis<0.8.0,>=0.7.8 in /usr/local/lib/python3.10/dist-packages (from thinc<8.3.0,>=8.2.2->spacy) (0.7.11)\n",
            "Requirement already satisfied: confection<1.0.0,>=0.0.1 in /usr/local/lib/python3.10/dist-packages (from thinc<8.3.0,>=8.2.2->spacy) (0.1.5)\n",
            "Requirement already satisfied: click>=8.0.0 in /usr/local/lib/python3.10/dist-packages (from typer<1.0.0,>=0.3.0->spacy) (8.1.7)\n",
            "Requirement already satisfied: shellingham>=1.3.0 in /usr/local/lib/python3.10/dist-packages (from typer<1.0.0,>=0.3.0->spacy) (1.5.4)\n",
            "Requirement already satisfied: rich>=10.11.0 in /usr/local/lib/python3.10/dist-packages (from typer<1.0.0,>=0.3.0->spacy) (13.9.4)\n",
            "Requirement already satisfied: cloudpathlib<1.0.0,>=0.7.0 in /usr/local/lib/python3.10/dist-packages (from weasel<0.5.0,>=0.1.0->spacy) (0.20.0)\n",
            "Requirement already satisfied: smart-open<8.0.0,>=5.2.1 in /usr/local/lib/python3.10/dist-packages (from weasel<0.5.0,>=0.1.0->spacy) (7.0.5)\n",
            "Requirement already satisfied: MarkupSafe>=2.0 in /usr/local/lib/python3.10/dist-packages (from jinja2->spacy) (3.0.2)\n",
            "Requirement already satisfied: marisa-trie>=1.1.0 in /usr/local/lib/python3.10/dist-packages (from language-data>=1.2->langcodes<4.0.0,>=3.2.0->spacy) (1.2.1)\n",
            "Requirement already satisfied: markdown-it-py>=2.2.0 in /usr/local/lib/python3.10/dist-packages (from rich>=10.11.0->typer<1.0.0,>=0.3.0->spacy) (3.0.0)\n",
            "Requirement already satisfied: pygments<3.0.0,>=2.13.0 in /usr/local/lib/python3.10/dist-packages (from rich>=10.11.0->typer<1.0.0,>=0.3.0->spacy) (2.18.0)\n",
            "Requirement already satisfied: wrapt in /usr/local/lib/python3.10/dist-packages (from smart-open<8.0.0,>=5.2.1->weasel<0.5.0,>=0.1.0->spacy) (1.17.0)\n",
            "Requirement already satisfied: mdurl~=0.1 in /usr/local/lib/python3.10/dist-packages (from markdown-it-py>=2.2.0->rich>=10.11.0->typer<1.0.0,>=0.3.0->spacy) (0.1.2)\n",
            "Collecting en-core-web-sm==3.7.1\n",
            "  Downloading https://github.com/explosion/spacy-models/releases/download/en_core_web_sm-3.7.1/en_core_web_sm-3.7.1-py3-none-any.whl (12.8 MB)\n",
            "\u001b[2K     \u001b[90m━━━━━━━━━━━━━━━━━━━━━━━━━━━━━━━━━━━━━━━━\u001b[0m \u001b[32m12.8/12.8 MB\u001b[0m \u001b[31m58.0 MB/s\u001b[0m eta \u001b[36m0:00:00\u001b[0m\n",
            "\u001b[?25hRequirement already satisfied: spacy<3.8.0,>=3.7.2 in /usr/local/lib/python3.10/dist-packages (from en-core-web-sm==3.7.1) (3.7.5)\n",
            "Requirement already satisfied: spacy-legacy<3.1.0,>=3.0.11 in /usr/local/lib/python3.10/dist-packages (from spacy<3.8.0,>=3.7.2->en-core-web-sm==3.7.1) (3.0.12)\n",
            "Requirement already satisfied: spacy-loggers<2.0.0,>=1.0.0 in /usr/local/lib/python3.10/dist-packages (from spacy<3.8.0,>=3.7.2->en-core-web-sm==3.7.1) (1.0.5)\n",
            "Requirement already satisfied: murmurhash<1.1.0,>=0.28.0 in /usr/local/lib/python3.10/dist-packages (from spacy<3.8.0,>=3.7.2->en-core-web-sm==3.7.1) (1.0.11)\n",
            "Requirement already satisfied: cymem<2.1.0,>=2.0.2 in /usr/local/lib/python3.10/dist-packages (from spacy<3.8.0,>=3.7.2->en-core-web-sm==3.7.1) (2.0.10)\n",
            "Requirement already satisfied: preshed<3.1.0,>=3.0.2 in /usr/local/lib/python3.10/dist-packages (from spacy<3.8.0,>=3.7.2->en-core-web-sm==3.7.1) (3.0.9)\n",
            "Requirement already satisfied: thinc<8.3.0,>=8.2.2 in /usr/local/lib/python3.10/dist-packages (from spacy<3.8.0,>=3.7.2->en-core-web-sm==3.7.1) (8.2.5)\n",
            "Requirement already satisfied: wasabi<1.2.0,>=0.9.1 in /usr/local/lib/python3.10/dist-packages (from spacy<3.8.0,>=3.7.2->en-core-web-sm==3.7.1) (1.1.3)\n",
            "Requirement already satisfied: srsly<3.0.0,>=2.4.3 in /usr/local/lib/python3.10/dist-packages (from spacy<3.8.0,>=3.7.2->en-core-web-sm==3.7.1) (2.5.0)\n",
            "Requirement already satisfied: catalogue<2.1.0,>=2.0.6 in /usr/local/lib/python3.10/dist-packages (from spacy<3.8.0,>=3.7.2->en-core-web-sm==3.7.1) (2.0.10)\n",
            "Requirement already satisfied: weasel<0.5.0,>=0.1.0 in /usr/local/lib/python3.10/dist-packages (from spacy<3.8.0,>=3.7.2->en-core-web-sm==3.7.1) (0.4.1)\n",
            "Requirement already satisfied: typer<1.0.0,>=0.3.0 in /usr/local/lib/python3.10/dist-packages (from spacy<3.8.0,>=3.7.2->en-core-web-sm==3.7.1) (0.15.1)\n",
            "Requirement already satisfied: tqdm<5.0.0,>=4.38.0 in /usr/local/lib/python3.10/dist-packages (from spacy<3.8.0,>=3.7.2->en-core-web-sm==3.7.1) (4.66.6)\n",
            "Requirement already satisfied: requests<3.0.0,>=2.13.0 in /usr/local/lib/python3.10/dist-packages (from spacy<3.8.0,>=3.7.2->en-core-web-sm==3.7.1) (2.32.3)\n",
            "Requirement already satisfied: pydantic!=1.8,!=1.8.1,<3.0.0,>=1.7.4 in /usr/local/lib/python3.10/dist-packages (from spacy<3.8.0,>=3.7.2->en-core-web-sm==3.7.1) (2.10.3)\n",
            "Requirement already satisfied: jinja2 in /usr/local/lib/python3.10/dist-packages (from spacy<3.8.0,>=3.7.2->en-core-web-sm==3.7.1) (3.1.4)\n",
            "Requirement already satisfied: setuptools in /usr/local/lib/python3.10/dist-packages (from spacy<3.8.0,>=3.7.2->en-core-web-sm==3.7.1) (75.1.0)\n",
            "Requirement already satisfied: packaging>=20.0 in /usr/local/lib/python3.10/dist-packages (from spacy<3.8.0,>=3.7.2->en-core-web-sm==3.7.1) (24.2)\n",
            "Requirement already satisfied: langcodes<4.0.0,>=3.2.0 in /usr/local/lib/python3.10/dist-packages (from spacy<3.8.0,>=3.7.2->en-core-web-sm==3.7.1) (3.5.0)\n",
            "Requirement already satisfied: numpy>=1.19.0 in /usr/local/lib/python3.10/dist-packages (from spacy<3.8.0,>=3.7.2->en-core-web-sm==3.7.1) (1.26.4)\n",
            "Requirement already satisfied: language-data>=1.2 in /usr/local/lib/python3.10/dist-packages (from langcodes<4.0.0,>=3.2.0->spacy<3.8.0,>=3.7.2->en-core-web-sm==3.7.1) (1.3.0)\n",
            "Requirement already satisfied: annotated-types>=0.6.0 in /usr/local/lib/python3.10/dist-packages (from pydantic!=1.8,!=1.8.1,<3.0.0,>=1.7.4->spacy<3.8.0,>=3.7.2->en-core-web-sm==3.7.1) (0.7.0)\n",
            "Requirement already satisfied: pydantic-core==2.27.1 in /usr/local/lib/python3.10/dist-packages (from pydantic!=1.8,!=1.8.1,<3.0.0,>=1.7.4->spacy<3.8.0,>=3.7.2->en-core-web-sm==3.7.1) (2.27.1)\n",
            "Requirement already satisfied: typing-extensions>=4.12.2 in /usr/local/lib/python3.10/dist-packages (from pydantic!=1.8,!=1.8.1,<3.0.0,>=1.7.4->spacy<3.8.0,>=3.7.2->en-core-web-sm==3.7.1) (4.12.2)\n",
            "Requirement already satisfied: charset-normalizer<4,>=2 in /usr/local/lib/python3.10/dist-packages (from requests<3.0.0,>=2.13.0->spacy<3.8.0,>=3.7.2->en-core-web-sm==3.7.1) (3.4.0)\n",
            "Requirement already satisfied: idna<4,>=2.5 in /usr/local/lib/python3.10/dist-packages (from requests<3.0.0,>=2.13.0->spacy<3.8.0,>=3.7.2->en-core-web-sm==3.7.1) (3.10)\n",
            "Requirement already satisfied: urllib3<3,>=1.21.1 in /usr/local/lib/python3.10/dist-packages (from requests<3.0.0,>=2.13.0->spacy<3.8.0,>=3.7.2->en-core-web-sm==3.7.1) (2.2.3)\n",
            "Requirement already satisfied: certifi>=2017.4.17 in /usr/local/lib/python3.10/dist-packages (from requests<3.0.0,>=2.13.0->spacy<3.8.0,>=3.7.2->en-core-web-sm==3.7.1) (2024.8.30)\n",
            "Requirement already satisfied: blis<0.8.0,>=0.7.8 in /usr/local/lib/python3.10/dist-packages (from thinc<8.3.0,>=8.2.2->spacy<3.8.0,>=3.7.2->en-core-web-sm==3.7.1) (0.7.11)\n",
            "Requirement already satisfied: confection<1.0.0,>=0.0.1 in /usr/local/lib/python3.10/dist-packages (from thinc<8.3.0,>=8.2.2->spacy<3.8.0,>=3.7.2->en-core-web-sm==3.7.1) (0.1.5)\n",
            "Requirement already satisfied: click>=8.0.0 in /usr/local/lib/python3.10/dist-packages (from typer<1.0.0,>=0.3.0->spacy<3.8.0,>=3.7.2->en-core-web-sm==3.7.1) (8.1.7)\n",
            "Requirement already satisfied: shellingham>=1.3.0 in /usr/local/lib/python3.10/dist-packages (from typer<1.0.0,>=0.3.0->spacy<3.8.0,>=3.7.2->en-core-web-sm==3.7.1) (1.5.4)\n",
            "Requirement already satisfied: rich>=10.11.0 in /usr/local/lib/python3.10/dist-packages (from typer<1.0.0,>=0.3.0->spacy<3.8.0,>=3.7.2->en-core-web-sm==3.7.1) (13.9.4)\n",
            "Requirement already satisfied: cloudpathlib<1.0.0,>=0.7.0 in /usr/local/lib/python3.10/dist-packages (from weasel<0.5.0,>=0.1.0->spacy<3.8.0,>=3.7.2->en-core-web-sm==3.7.1) (0.20.0)\n",
            "Requirement already satisfied: smart-open<8.0.0,>=5.2.1 in /usr/local/lib/python3.10/dist-packages (from weasel<0.5.0,>=0.1.0->spacy<3.8.0,>=3.7.2->en-core-web-sm==3.7.1) (7.0.5)\n",
            "Requirement already satisfied: MarkupSafe>=2.0 in /usr/local/lib/python3.10/dist-packages (from jinja2->spacy<3.8.0,>=3.7.2->en-core-web-sm==3.7.1) (3.0.2)\n",
            "Requirement already satisfied: marisa-trie>=1.1.0 in /usr/local/lib/python3.10/dist-packages (from language-data>=1.2->langcodes<4.0.0,>=3.2.0->spacy<3.8.0,>=3.7.2->en-core-web-sm==3.7.1) (1.2.1)\n",
            "Requirement already satisfied: markdown-it-py>=2.2.0 in /usr/local/lib/python3.10/dist-packages (from rich>=10.11.0->typer<1.0.0,>=0.3.0->spacy<3.8.0,>=3.7.2->en-core-web-sm==3.7.1) (3.0.0)\n",
            "Requirement already satisfied: pygments<3.0.0,>=2.13.0 in /usr/local/lib/python3.10/dist-packages (from rich>=10.11.0->typer<1.0.0,>=0.3.0->spacy<3.8.0,>=3.7.2->en-core-web-sm==3.7.1) (2.18.0)\n",
            "Requirement already satisfied: wrapt in /usr/local/lib/python3.10/dist-packages (from smart-open<8.0.0,>=5.2.1->weasel<0.5.0,>=0.1.0->spacy<3.8.0,>=3.7.2->en-core-web-sm==3.7.1) (1.17.0)\n",
            "Requirement already satisfied: mdurl~=0.1 in /usr/local/lib/python3.10/dist-packages (from markdown-it-py>=2.2.0->rich>=10.11.0->typer<1.0.0,>=0.3.0->spacy<3.8.0,>=3.7.2->en-core-web-sm==3.7.1) (0.1.2)\n",
            "\u001b[38;5;2m✔ Download and installation successful\u001b[0m\n",
            "You can now load the package via spacy.load('en_core_web_sm')\n",
            "\u001b[38;5;3m⚠ Restart to reload dependencies\u001b[0m\n",
            "If you are in a Jupyter or Colab notebook, you may need to restart Python in\n",
            "order to load all the package's dependencies. You can do this by selecting the\n",
            "'Restart kernel' or 'Restart runtime' option.\n"
          ]
        }
      ],
      "source": [
        "!pip install spacy\n",
        "!python -m spacy download en_core_web_sm"
      ]
    },
    {
      "cell_type": "code",
      "source": [
        "import spacy\n",
        "nlp = spacy.load(\"en_core_web_sm\")\n",
        "\n",
        "text = \"\"\"\n",
        "Dave watched as the forest burned up on the hill,\n",
        "only a few miles from his house. The car had\n",
        "been hastily packed and Marta was inside trying to round\n",
        "up the last of the pets. \"Where could she be?\" he wondered\n",
        "as he continued to wait for Marta to appear with the pets.\n",
        "\"\"\"\n",
        "\n",
        "doc = nlp(text)\n",
        "token_list = [token for token in doc]\n",
        "\n",
        "print(token_list)"
      ],
      "metadata": {
        "colab": {
          "base_uri": "https://localhost:8080/"
        },
        "id": "uaYNixz4pwcf",
        "outputId": "4591417e-0ca8-4790-8c1b-5a1a29eef5cb"
      },
      "execution_count": 45,
      "outputs": [
        {
          "output_type": "stream",
          "name": "stdout",
          "text": [
            "[\n",
            ", Dave, watched, as, the, forest, burned, up, on, the, hill, ,, \n",
            ", only, a, few, miles, from, his, house, ., The, car, had, \n",
            ", been, hastily, packed, and, Marta, was, inside, trying, to, round, \n",
            ", up, the, last, of, the, pets, ., \", Where, could, she, be, ?, \", he, wondered, \n",
            ", as, he, continued, to, wait, for, Marta, to, appear, with, the, pets, ., \n",
            "]\n"
          ]
        }
      ]
    },
    {
      "cell_type": "markdown",
      "source": [
        "Удаление стоп-слов"
      ],
      "metadata": {
        "id": "C_NBLZOup9cv"
      }
    },
    {
      "cell_type": "code",
      "source": [
        "filtered_tokens = [token for token in doc if not token.is_stop]\n",
        "print(filtered_tokens)"
      ],
      "metadata": {
        "colab": {
          "base_uri": "https://localhost:8080/"
        },
        "id": "X-JxQ3Xbp36Y",
        "outputId": "4d9ce197-2a74-4725-92f9-49a9f3f005ab"
      },
      "execution_count": 46,
      "outputs": [
        {
          "output_type": "stream",
          "name": "stdout",
          "text": [
            "[\n",
            ", Dave, watched, forest, burned, hill, ,, \n",
            ", miles, house, ., car, \n",
            ", hastily, packed, Marta, inside, trying, round, \n",
            ", pets, ., \", ?, \", wondered, \n",
            ", continued, wait, Marta, appear, pets, ., \n",
            "]\n"
          ]
        }
      ]
    },
    {
      "cell_type": "markdown",
      "source": [
        "Приведение к нормальной форме\n",
        "\n",
        "В процессе нормализации все формы слова приводятся к единому представлению. Например, watched, watching и watches после нормализации превращаются в watch. Есть два основных подхода к нормализации: стемминг и лемматизация."
      ],
      "metadata": {
        "id": "DmPZCH4dqGh3"
      }
    },
    {
      "cell_type": "code",
      "source": [
        "lemmas = [\n",
        "    f\"Token: {token}, lemma: {token.lemma_}\"\n",
        "    for token in filtered_tokens\n",
        "]\n",
        "\n",
        "print(lemmas)"
      ],
      "metadata": {
        "colab": {
          "base_uri": "https://localhost:8080/"
        },
        "id": "Ajbxp3XgqIbi",
        "outputId": "80fc95ae-68aa-48ec-dcf9-01fe9053a346"
      },
      "execution_count": 47,
      "outputs": [
        {
          "output_type": "stream",
          "name": "stdout",
          "text": [
            "['Token: \\n, lemma: \\n', 'Token: Dave, lemma: Dave', 'Token: watched, lemma: watch', 'Token: forest, lemma: forest', 'Token: burned, lemma: burn', 'Token: hill, lemma: hill', 'Token: ,, lemma: ,', 'Token: \\n, lemma: \\n', 'Token: miles, lemma: mile', 'Token: house, lemma: house', 'Token: ., lemma: .', 'Token: car, lemma: car', 'Token: \\n, lemma: \\n', 'Token: hastily, lemma: hastily', 'Token: packed, lemma: pack', 'Token: Marta, lemma: Marta', 'Token: inside, lemma: inside', 'Token: trying, lemma: try', 'Token: round, lemma: round', 'Token: \\n, lemma: \\n', 'Token: pets, lemma: pet', 'Token: ., lemma: .', 'Token: \", lemma: \"', 'Token: ?, lemma: ?', 'Token: \", lemma: \"', 'Token: wondered, lemma: wonder', 'Token: \\n, lemma: \\n', 'Token: continued, lemma: continue', 'Token: wait, lemma: wait', 'Token: Marta, lemma: Marta', 'Token: appear, lemma: appear', 'Token: pets, lemma: pet', 'Token: ., lemma: .', 'Token: \\n, lemma: \\n']\n"
          ]
        }
      ]
    },
    {
      "cell_type": "markdown",
      "source": [
        "Векторизация – преобразование токена в числовой массив, который представляет его свойства. В контексте задачи вектор уникален для каждого токена. Векторные представления токенов используются для оценки сходства слов, классификации текстов и т. д. В spaCy токены векторизуются в виде плотных массивов, в которых для каждой позиции определены ненулевые значений. Это отличает используемый подход от ранних методов, в которых для тех же целей применялись разреженные массивы и большинство позиций были заполнены нулями."
      ],
      "metadata": {
        "id": "ZD7mULF5qRfb"
      }
    },
    {
      "cell_type": "code",
      "source": [
        "filtered_tokens[1].vector"
      ],
      "metadata": {
        "colab": {
          "base_uri": "https://localhost:8080/"
        },
        "id": "rZ7UEYaSqSn5",
        "outputId": "437f0b4f-388d-4965-b413-1c8bc4969fdc"
      },
      "execution_count": 48,
      "outputs": [
        {
          "output_type": "execute_result",
          "data": {
            "text/plain": [
              "array([-1.0732638 , -1.589313  , -0.7485428 ,  0.8033879 ,  0.19977242,\n",
              "        0.00840408,  1.5419115 ,  0.78789234, -0.10507897, -0.08379465,\n",
              "        1.6370184 ,  0.99815553, -0.27276033, -0.9078418 , -1.2485981 ,\n",
              "       -0.5253064 ,  0.3660615 ,  0.32205266,  0.26947686, -0.6838585 ,\n",
              "       -1.3466268 ,  0.011222  , -0.24088496, -0.48466784, -0.33174878,\n",
              "       -0.05325326,  1.8773433 ,  0.56494987, -0.96057415,  0.78610957,\n",
              "       -0.44939822, -1.4648833 , -0.38066617,  1.0480769 , -0.8341217 ,\n",
              "       -0.2217494 , -0.85443366,  0.35594553, -0.1127467 ,  1.2787786 ,\n",
              "       -0.8223141 ,  0.18473059, -0.08983876,  0.6325263 , -1.1029459 ,\n",
              "        0.3719486 ,  0.11167981,  1.5298815 ,  0.73126984, -0.01238485,\n",
              "       -0.38741022,  0.24374121,  0.66934216, -0.51473886, -0.05107652,\n",
              "       -0.6836413 ,  1.2553529 , -0.4258146 ,  0.82571185, -0.40290013,\n",
              "       -1.0714419 ,  0.8215423 ,  0.10354415, -0.5627635 ,  0.34108153,\n",
              "       -0.46954852, -0.644461  , -0.4248718 , -0.74732137, -0.93381405,\n",
              "        0.54961896,  0.95218056,  1.8080062 ,  0.7719106 , -0.063205  ,\n",
              "       -1.1639179 , -0.3737961 , -2.050684  , -0.24220796, -0.6951563 ,\n",
              "       -0.6872523 ,  0.76149726, -0.8780628 ,  0.68690616,  1.4673213 ,\n",
              "       -0.3449757 ,  0.80576396, -0.3064615 , -0.64711714,  0.15497899,\n",
              "       -0.3926391 , -0.12381145,  2.0929089 ,  0.07248341,  1.388786  ,\n",
              "        1.6653655 ], dtype=float32)"
            ]
          },
          "metadata": {},
          "execution_count": 48
        }
      ]
    },
    {
      "cell_type": "markdown",
      "source": [
        "Создаем собственный анализатор тональности текстов"
      ],
      "metadata": {
        "id": "tj-e03gKqvem"
      }
    },
    {
      "cell_type": "code",
      "source": [
        "import os                                                     #\n",
        "\n",
        "def load_training_data(\n",
        "    data_directory: str = \"aclImdb/train\",\n",
        "    split: float = 0.8,\n",
        "    limit: int = 0) -> tuple:\n",
        "    # Загрузка данных из файлов\n",
        "    reviews = []                                              #\n",
        "    for label in [\"pos\", \"neg\"]:                              #\n",
        "        labeled_directory = f\"{data_directory}/{label}\"       #\n",
        "        for review in os.listdir(labeled_directory):          #\n",
        "            if review.endswith(\".txt\"):                       #\n",
        "                with open(f\"{labeled_directory}/{review}\") as f:\n",
        "                    text = f.read()                           #\n",
        "                    text = text.replace(\"<br />\", \"\\n\\n\")     #\n",
        "                    if text.strip():                          #\n",
        "                        spacy_label = {                       #\n",
        "                            \"cats\": {                         #\n",
        "                                \"pos\": \"pos\" == label,        #\n",
        "                                \"neg\": \"neg\" == label         #\n",
        "                            }                                 #\n",
        "                        }                                     #\n",
        "                        reviews.append((text, spacy_label))   #"
      ],
      "metadata": {
        "id": "Xut1Nv3WqwXi"
      },
      "execution_count": 49,
      "outputs": []
    },
    {
      "cell_type": "code",
      "source": [
        "import os\n",
        "import random                                  #\n",
        "\n",
        "def load_training_data(\n",
        "    data_directory: str = \"aclImdb/train\",\n",
        "    split: float = 0.8,\n",
        "    limit: int = 0\n",
        ") -> tuple:\n",
        "    # Загрузка данных из файлов\n",
        "    reviews = []\n",
        "    for label in [\"pos\", \"neg\"]:\n",
        "        labeled_directory = f\"{data_directory}/{label}\"\n",
        "        for review in os.listdir(labeled_directory):\n",
        "            if review.endswith(\".txt\"):\n",
        "                with open(f\"{labeled_directory}/{review}\") as f:\n",
        "                    text = f.read()\n",
        "                    text = text.replace(\"<br />\", \"\\n\\n\")\n",
        "                    if text.strip():\n",
        "                        spacy_label = {\n",
        "                            \"cats\": {\n",
        "                                \"pos\": \"pos\" == label,\n",
        "                                \"neg\": \"neg\" == label}\n",
        "                        }\n",
        "                        reviews.append((text, spacy_label))\n",
        "    random.shuffle(reviews)                    #\n",
        "\n",
        "    if limit:                                  #\n",
        "        reviews = reviews[:limit]              #\n",
        "    split = int(len(reviews) * split)          #\n",
        "    return reviews[:split], reviews[split:]    #"
      ],
      "metadata": {
        "id": "w_0Y3Oycx4RD"
      },
      "execution_count": 50,
      "outputs": []
    },
    {
      "cell_type": "code",
      "source": [
        "load_training_data(\n",
        "    data_directory = \"aclImdb/train\",\n",
        "    split = 0.8,\n",
        "    limit = 0)[0][0]"
      ],
      "metadata": {
        "colab": {
          "base_uri": "https://localhost:8080/"
        },
        "id": "kG_SN8GBx8YJ",
        "outputId": "2ca0e8e1-43e1-4b9c-b87e-3d9fb9481db2"
      },
      "execution_count": 51,
      "outputs": [
        {
          "output_type": "execute_result",
          "data": {
            "text/plain": [
              "('For some reason, TV Guide gave this two and a half stars, plus Faye Dunaway is in it, so it definitely looked like something to see. My, oh, my, this may be the worst film I\\'ve ever seen. Ever. From its horrid acting (every time the girl asks the boy what\\'s wrong with him, I shouted to the TV \"I can\\'t act!\" When she asks what he needs, I yell \"I need acting lessons!\" to the unbelievably bad dialog (\"Give me back my organs!\").\\n\\n\\n\\nAnd the Brian DePalma wannabe ending, too, it was all just beyond awful. I wanted to like it. Dunaway is one of the best actors ever. And the production values were pretty good.\\n\\n\\n\\nBut wowzers, this had me laughing, LAUGHING!, most of the time.\\n\\n\\n\\nDon\\'t even bother out of curiosity, that was my first mistake. Staying with it was definitely my second, and third and fourth.',\n",
              " {'cats': {'pos': False, 'neg': True}})"
            ]
          },
          "metadata": {},
          "execution_count": 51
        }
      ]
    },
    {
      "cell_type": "markdown",
      "source": [
        "Обучение классификатора\n",
        "\n",
        "Конвейер spaCy позволяет создать и обучить сверточную нейронную сеть (CNN) для классификации текстовых данных. Здесь этот подход используется для сентимент-анализа, но ничто не мешает распространить его и на другие задачи классификации текстов.\n",
        "\n",
        "В этой части проекта мы выполним три шага:\n",
        "\n",
        "    Измененим базовый конвейер spaCy для включения компонента textcat.\n",
        "    Создадим цикл для обучения компонента textcat.\n",
        "    Научимся оценивать прогресс обучения модели после заданного количества циклов обучения.\n"
      ],
      "metadata": {
        "id": "nHMzvAKvyEc8"
      }
    },
    {
      "cell_type": "code",
      "source": [
        "def evaluate_model(tokenizer, textcat, test_data: list) -> dict:\n",
        "    reviews, labels = zip(*test_data)\n",
        "    reviews = (tokenizer(review) for review in reviews)\n",
        "    # Указываем TP как малое число, чтобы в знаменателе\n",
        "    # не оказался 0\n",
        "    TP, FP, TN, FN = 1e-8, 0, 0, 0\n",
        "    for i, review in enumerate(textcat.pipe(reviews)):\n",
        "        true_label = labels[i]['cats']\n",
        "        score_pos = review.cats['pos']\n",
        "        if true_label['pos']:\n",
        "            if score_pos >= 0.5:\n",
        "                TP += 1\n",
        "            else:\n",
        "                FN += 1\n",
        "        else:\n",
        "            if score_pos >= 0.5:\n",
        "                FP += 1\n",
        "            else:\n",
        "                TN += 1\n",
        "    precision = TP / (TP + FP)\n",
        "    recall = TP / (TP + FN)\n",
        "    f_score = 2 * precision * recall / (precision + recall)\n",
        "    return {\"precision\": precision, \"recall\": recall, \"f-score\": f_score}"
      ],
      "metadata": {
        "id": "Us5d3cUUycFY"
      },
      "execution_count": 52,
      "outputs": []
    },
    {
      "cell_type": "code",
      "source": [
        "import os\n",
        "import random\n",
        "import spacy\n",
        "from spacy.util import minibatch, compounding\n",
        "\n",
        "def train_model(\n",
        "    training_data: list,\n",
        "    test_data: list,\n",
        "    iterations: int = 20) -> None:\n",
        "    # Строим конвейер\n",
        "    nlp = spacy.load(\"en_core_web_sm\")\n",
        "    if \"textcat\" not in nlp.pipe_names:\n",
        "        textcat = nlp.create_pipe(\n",
        "            \"textcat\", config={\"architecture\": \"simple_cnn\"}\n",
        "        )\n",
        "        nlp.add_pipe(textcat, last=True)\n",
        "    else:\n",
        "        textcat = nlp.get_pipe(\"textcat\")\n",
        "\n",
        "    textcat.add_label(\"pos\")\n",
        "    textcat.add_label(\"neg\")\n",
        "\n",
        "    # Обучаем только textcat\n",
        "    training_excluded_pipes = [\n",
        "        pipe for pipe in nlp.pipe_names if pipe != \"textcat\"\n",
        "    ]\n",
        "    with nlp.disable_pipes(training_excluded_pipes):\n",
        "        optimizer = nlp.begin_training()\n",
        "        # Training loop\n",
        "        print(\"Начинаем обучение\")\n",
        "        print(\"Loss\\t\\tPrec.\\tRec.\\tF-score\")          #\n",
        "        batch_sizes = compounding(\n",
        "            4.0, 32.0, 1.001\n",
        "        )  # Генератор бесконечной последовательности входных чисел\n",
        "        for i in range(iterations):\n",
        "            loss = {}\n",
        "            random.shuffle(training_data)\n",
        "            batches = minibatch(training_data, size=batch_sizes)\n",
        "            for batch in batches:\n",
        "                text, labels = zip(*batch)\n",
        "                nlp.update(\n",
        "                    text,\n",
        "                    labels,\n",
        "                    drop=0.2,\n",
        "                    sgd=optimizer,\n",
        "                    losses=loss\n",
        "                )\n",
        "            with textcat.model.use_params(optimizer.averages):\n",
        "                evaluation_results = evaluate_model(   #\n",
        "                    tokenizer=nlp.tokenizer,           #\n",
        "                    textcat=textcat,                   #\n",
        "                    test_data=test_data                #\n",
        "                )                                      #\n",
        "                print(f\"{loss['textcat']:9.6f}\\t\\\n",
        "{evaluation_results['precision']:.3f}\\t\\\n",
        "{evaluation_results['recall']:.3f}\\t\\\n",
        "{evaluation_results['f-score']:.3f}\")\n",
        "\n",
        "    # Сохраняем модель                                 #\n",
        "    with nlp.use_params(optimizer.averages):           #\n",
        "        nlp.to_disk(\"model_artifacts\")                 #"
      ],
      "metadata": {
        "id": "ChWBpZzIygad"
      },
      "execution_count": 53,
      "outputs": []
    },
    {
      "cell_type": "code",
      "source": [
        "train, test = load_training_data(limit=20000)\n",
        "train_model(train, test, iterations=1)"
      ],
      "metadata": {
        "colab": {
          "base_uri": "https://localhost:8080/",
          "height": 454
        },
        "id": "O3RUtz0Byk-r",
        "outputId": "c59555d2-0ba1-48a9-c4a6-cba6b76e1423"
      },
      "execution_count": 54,
      "outputs": [
        {
          "output_type": "error",
          "ename": "ConfigValidationError",
          "evalue": "\n\nConfig validation error\ntextcat -> architecture\textra fields not permitted\n{'nlp': <spacy.lang.en.English object at 0x7f29ee3bbb50>, 'name': 'textcat', 'architecture': 'simple_cnn', 'model': {'@architectures': 'spacy.TextCatEnsemble.v2', 'linear_model': {'@architectures': 'spacy.TextCatBOW.v3', 'exclusive_classes': True, 'length': 262144, 'ngram_size': 1, 'no_output_layer': False}, 'tok2vec': {'@architectures': 'spacy.Tok2Vec.v2', 'embed': {'@architectures': 'spacy.MultiHashEmbed.v2', 'width': 64, 'rows': [2000, 2000, 500, 1000, 500], 'attrs': ['NORM', 'LOWER', 'PREFIX', 'SUFFIX', 'SHAPE'], 'include_static_vectors': False}, 'encode': {'@architectures': 'spacy.MaxoutWindowEncoder.v2', 'width': 64, 'window_size': 1, 'maxout_pieces': 3, 'depth': 2}}}, 'scorer': {'@scorers': 'spacy.textcat_scorer.v2'}, 'threshold': 0.0, '@factories': 'textcat'}",
          "traceback": [
            "\u001b[0;31m---------------------------------------------------------------------------\u001b[0m",
            "\u001b[0;31mConfigValidationError\u001b[0m                     Traceback (most recent call last)",
            "\u001b[0;32m<ipython-input-54-fd35cac82698>\u001b[0m in \u001b[0;36m<cell line: 2>\u001b[0;34m()\u001b[0m\n\u001b[1;32m      1\u001b[0m \u001b[0mtrain\u001b[0m\u001b[0;34m,\u001b[0m \u001b[0mtest\u001b[0m \u001b[0;34m=\u001b[0m \u001b[0mload_training_data\u001b[0m\u001b[0;34m(\u001b[0m\u001b[0mlimit\u001b[0m\u001b[0;34m=\u001b[0m\u001b[0;36m20000\u001b[0m\u001b[0;34m)\u001b[0m\u001b[0;34m\u001b[0m\u001b[0;34m\u001b[0m\u001b[0m\n\u001b[0;32m----> 2\u001b[0;31m \u001b[0mtrain_model\u001b[0m\u001b[0;34m(\u001b[0m\u001b[0mtrain\u001b[0m\u001b[0;34m,\u001b[0m \u001b[0mtest\u001b[0m\u001b[0;34m,\u001b[0m \u001b[0miterations\u001b[0m\u001b[0;34m=\u001b[0m\u001b[0;36m1\u001b[0m\u001b[0;34m)\u001b[0m\u001b[0;34m\u001b[0m\u001b[0;34m\u001b[0m\u001b[0m\n\u001b[0m",
            "\u001b[0;32m<ipython-input-53-fcf28b281255>\u001b[0m in \u001b[0;36mtrain_model\u001b[0;34m(training_data, test_data, iterations)\u001b[0m\n\u001b[1;32m     11\u001b[0m     \u001b[0mnlp\u001b[0m \u001b[0;34m=\u001b[0m \u001b[0mspacy\u001b[0m\u001b[0;34m.\u001b[0m\u001b[0mload\u001b[0m\u001b[0;34m(\u001b[0m\u001b[0;34m\"en_core_web_sm\"\u001b[0m\u001b[0;34m)\u001b[0m\u001b[0;34m\u001b[0m\u001b[0;34m\u001b[0m\u001b[0m\n\u001b[1;32m     12\u001b[0m     \u001b[0;32mif\u001b[0m \u001b[0;34m\"textcat\"\u001b[0m \u001b[0;32mnot\u001b[0m \u001b[0;32min\u001b[0m \u001b[0mnlp\u001b[0m\u001b[0;34m.\u001b[0m\u001b[0mpipe_names\u001b[0m\u001b[0;34m:\u001b[0m\u001b[0;34m\u001b[0m\u001b[0;34m\u001b[0m\u001b[0m\n\u001b[0;32m---> 13\u001b[0;31m         textcat = nlp.create_pipe(\n\u001b[0m\u001b[1;32m     14\u001b[0m             \u001b[0;34m\"textcat\"\u001b[0m\u001b[0;34m,\u001b[0m \u001b[0mconfig\u001b[0m\u001b[0;34m=\u001b[0m\u001b[0;34m{\u001b[0m\u001b[0;34m\"architecture\"\u001b[0m\u001b[0;34m:\u001b[0m \u001b[0;34m\"simple_cnn\"\u001b[0m\u001b[0;34m}\u001b[0m\u001b[0;34m\u001b[0m\u001b[0;34m\u001b[0m\u001b[0m\n\u001b[1;32m     15\u001b[0m         )\n",
            "\u001b[0;32m/usr/local/lib/python3.10/dist-packages/spacy/language.py\u001b[0m in \u001b[0;36mcreate_pipe\u001b[0;34m(self, factory_name, name, config, raw_config, validate)\u001b[0m\n\u001b[1;32m    707\u001b[0m         \u001b[0;31m# We're calling the internal _fill here to avoid constructing the\u001b[0m\u001b[0;34m\u001b[0m\u001b[0;34m\u001b[0m\u001b[0m\n\u001b[1;32m    708\u001b[0m         \u001b[0;31m# registered functions twice\u001b[0m\u001b[0;34m\u001b[0m\u001b[0;34m\u001b[0m\u001b[0m\n\u001b[0;32m--> 709\u001b[0;31m         \u001b[0mresolved\u001b[0m \u001b[0;34m=\u001b[0m \u001b[0mregistry\u001b[0m\u001b[0;34m.\u001b[0m\u001b[0mresolve\u001b[0m\u001b[0;34m(\u001b[0m\u001b[0mcfg\u001b[0m\u001b[0;34m,\u001b[0m \u001b[0mvalidate\u001b[0m\u001b[0;34m=\u001b[0m\u001b[0mvalidate\u001b[0m\u001b[0;34m)\u001b[0m\u001b[0;34m\u001b[0m\u001b[0;34m\u001b[0m\u001b[0m\n\u001b[0m\u001b[1;32m    710\u001b[0m         \u001b[0mfilled\u001b[0m \u001b[0;34m=\u001b[0m \u001b[0mregistry\u001b[0m\u001b[0;34m.\u001b[0m\u001b[0mfill\u001b[0m\u001b[0;34m(\u001b[0m\u001b[0;34m{\u001b[0m\u001b[0;34m\"cfg\"\u001b[0m\u001b[0;34m:\u001b[0m \u001b[0mcfg\u001b[0m\u001b[0;34m[\u001b[0m\u001b[0mfactory_name\u001b[0m\u001b[0;34m]\u001b[0m\u001b[0;34m}\u001b[0m\u001b[0;34m,\u001b[0m \u001b[0mvalidate\u001b[0m\u001b[0;34m=\u001b[0m\u001b[0mvalidate\u001b[0m\u001b[0;34m)\u001b[0m\u001b[0;34m[\u001b[0m\u001b[0;34m\"cfg\"\u001b[0m\u001b[0;34m]\u001b[0m\u001b[0;34m\u001b[0m\u001b[0;34m\u001b[0m\u001b[0m\n\u001b[1;32m    711\u001b[0m         \u001b[0mfilled\u001b[0m \u001b[0;34m=\u001b[0m \u001b[0mConfig\u001b[0m\u001b[0;34m(\u001b[0m\u001b[0mfilled\u001b[0m\u001b[0;34m)\u001b[0m\u001b[0;34m\u001b[0m\u001b[0;34m\u001b[0m\u001b[0m\n",
            "\u001b[0;32m/usr/local/lib/python3.10/dist-packages/confection/__init__.py\u001b[0m in \u001b[0;36mresolve\u001b[0;34m(cls, config, schema, overrides, validate)\u001b[0m\n\u001b[1;32m    758\u001b[0m         \u001b[0mvalidate\u001b[0m\u001b[0;34m:\u001b[0m \u001b[0mbool\u001b[0m \u001b[0;34m=\u001b[0m \u001b[0;32mTrue\u001b[0m\u001b[0;34m,\u001b[0m\u001b[0;34m\u001b[0m\u001b[0;34m\u001b[0m\u001b[0m\n\u001b[1;32m    759\u001b[0m     ) -> Dict[str, Any]:\n\u001b[0;32m--> 760\u001b[0;31m         resolved, _ = cls._make(\n\u001b[0m\u001b[1;32m    761\u001b[0m             \u001b[0mconfig\u001b[0m\u001b[0;34m,\u001b[0m \u001b[0mschema\u001b[0m\u001b[0;34m=\u001b[0m\u001b[0mschema\u001b[0m\u001b[0;34m,\u001b[0m \u001b[0moverrides\u001b[0m\u001b[0;34m=\u001b[0m\u001b[0moverrides\u001b[0m\u001b[0;34m,\u001b[0m \u001b[0mvalidate\u001b[0m\u001b[0;34m=\u001b[0m\u001b[0mvalidate\u001b[0m\u001b[0;34m,\u001b[0m \u001b[0mresolve\u001b[0m\u001b[0;34m=\u001b[0m\u001b[0;32mTrue\u001b[0m\u001b[0;34m\u001b[0m\u001b[0;34m\u001b[0m\u001b[0m\n\u001b[1;32m    762\u001b[0m         )\n",
            "\u001b[0;32m/usr/local/lib/python3.10/dist-packages/confection/__init__.py\u001b[0m in \u001b[0;36m_make\u001b[0;34m(cls, config, schema, overrides, resolve, validate)\u001b[0m\n\u001b[1;32m    807\u001b[0m         \u001b[0;32mif\u001b[0m \u001b[0;32mnot\u001b[0m \u001b[0mis_interpolated\u001b[0m\u001b[0;34m:\u001b[0m\u001b[0;34m\u001b[0m\u001b[0;34m\u001b[0m\u001b[0m\n\u001b[1;32m    808\u001b[0m             \u001b[0mconfig\u001b[0m \u001b[0;34m=\u001b[0m \u001b[0mConfig\u001b[0m\u001b[0;34m(\u001b[0m\u001b[0morig_config\u001b[0m\u001b[0;34m)\u001b[0m\u001b[0;34m.\u001b[0m\u001b[0minterpolate\u001b[0m\u001b[0;34m(\u001b[0m\u001b[0;34m)\u001b[0m\u001b[0;34m\u001b[0m\u001b[0;34m\u001b[0m\u001b[0m\n\u001b[0;32m--> 809\u001b[0;31m         filled, _, resolved = cls._fill(\n\u001b[0m\u001b[1;32m    810\u001b[0m             \u001b[0mconfig\u001b[0m\u001b[0;34m,\u001b[0m \u001b[0mschema\u001b[0m\u001b[0;34m,\u001b[0m \u001b[0mvalidate\u001b[0m\u001b[0;34m=\u001b[0m\u001b[0mvalidate\u001b[0m\u001b[0;34m,\u001b[0m \u001b[0moverrides\u001b[0m\u001b[0;34m=\u001b[0m\u001b[0moverrides\u001b[0m\u001b[0;34m,\u001b[0m \u001b[0mresolve\u001b[0m\u001b[0;34m=\u001b[0m\u001b[0mresolve\u001b[0m\u001b[0;34m\u001b[0m\u001b[0;34m\u001b[0m\u001b[0m\n\u001b[1;32m    811\u001b[0m         )\n",
            "\u001b[0;32m/usr/local/lib/python3.10/dist-packages/confection/__init__.py\u001b[0m in \u001b[0;36m_fill\u001b[0;34m(cls, config, schema, validate, resolve, parent, overrides)\u001b[0m\n\u001b[1;32m    862\u001b[0m                     \u001b[0mschema\u001b[0m\u001b[0;34m.\u001b[0m\u001b[0m__fields__\u001b[0m\u001b[0;34m[\u001b[0m\u001b[0mkey\u001b[0m\u001b[0;34m]\u001b[0m \u001b[0;34m=\u001b[0m \u001b[0mcopy_model_field\u001b[0m\u001b[0;34m(\u001b[0m\u001b[0mfield\u001b[0m\u001b[0;34m,\u001b[0m \u001b[0mAny\u001b[0m\u001b[0;34m)\u001b[0m\u001b[0;34m\u001b[0m\u001b[0;34m\u001b[0m\u001b[0m\n\u001b[1;32m    863\u001b[0m                 \u001b[0mpromise_schema\u001b[0m \u001b[0;34m=\u001b[0m \u001b[0mcls\u001b[0m\u001b[0;34m.\u001b[0m\u001b[0mmake_promise_schema\u001b[0m\u001b[0;34m(\u001b[0m\u001b[0mvalue\u001b[0m\u001b[0;34m,\u001b[0m \u001b[0mresolve\u001b[0m\u001b[0;34m=\u001b[0m\u001b[0mresolve\u001b[0m\u001b[0;34m)\u001b[0m\u001b[0;34m\u001b[0m\u001b[0;34m\u001b[0m\u001b[0m\n\u001b[0;32m--> 864\u001b[0;31m                 filled[key], validation[v_key], final[key] = cls._fill(\n\u001b[0m\u001b[1;32m    865\u001b[0m                     \u001b[0mvalue\u001b[0m\u001b[0;34m,\u001b[0m\u001b[0;34m\u001b[0m\u001b[0;34m\u001b[0m\u001b[0m\n\u001b[1;32m    866\u001b[0m                     \u001b[0mpromise_schema\u001b[0m\u001b[0;34m,\u001b[0m\u001b[0;34m\u001b[0m\u001b[0;34m\u001b[0m\u001b[0m\n",
            "\u001b[0;32m/usr/local/lib/python3.10/dist-packages/confection/__init__.py\u001b[0m in \u001b[0;36m_fill\u001b[0;34m(cls, config, schema, validate, resolve, parent, overrides)\u001b[0m\n\u001b[1;32m    937\u001b[0m                 \u001b[0mresult\u001b[0m \u001b[0;34m=\u001b[0m \u001b[0mschema\u001b[0m\u001b[0;34m.\u001b[0m\u001b[0mparse_obj\u001b[0m\u001b[0;34m(\u001b[0m\u001b[0mvalidation\u001b[0m\u001b[0;34m)\u001b[0m\u001b[0;34m\u001b[0m\u001b[0;34m\u001b[0m\u001b[0m\n\u001b[1;32m    938\u001b[0m             \u001b[0;32mexcept\u001b[0m \u001b[0mValidationError\u001b[0m \u001b[0;32mas\u001b[0m \u001b[0me\u001b[0m\u001b[0;34m:\u001b[0m\u001b[0;34m\u001b[0m\u001b[0;34m\u001b[0m\u001b[0m\n\u001b[0;32m--> 939\u001b[0;31m                 raise ConfigValidationError(\n\u001b[0m\u001b[1;32m    940\u001b[0m                     \u001b[0mconfig\u001b[0m\u001b[0;34m=\u001b[0m\u001b[0mconfig\u001b[0m\u001b[0;34m,\u001b[0m \u001b[0merrors\u001b[0m\u001b[0;34m=\u001b[0m\u001b[0me\u001b[0m\u001b[0;34m.\u001b[0m\u001b[0merrors\u001b[0m\u001b[0;34m(\u001b[0m\u001b[0;34m)\u001b[0m\u001b[0;34m,\u001b[0m \u001b[0mparent\u001b[0m\u001b[0;34m=\u001b[0m\u001b[0mparent\u001b[0m\u001b[0;34m\u001b[0m\u001b[0;34m\u001b[0m\u001b[0m\n\u001b[1;32m    941\u001b[0m                 ) from None\n",
            "\u001b[0;31mConfigValidationError\u001b[0m: \n\nConfig validation error\ntextcat -> architecture\textra fields not permitted\n{'nlp': <spacy.lang.en.English object at 0x7f29ee3bbb50>, 'name': 'textcat', 'architecture': 'simple_cnn', 'model': {'@architectures': 'spacy.TextCatEnsemble.v2', 'linear_model': {'@architectures': 'spacy.TextCatBOW.v3', 'exclusive_classes': True, 'length': 262144, 'ngram_size': 1, 'no_output_layer': False}, 'tok2vec': {'@architectures': 'spacy.Tok2Vec.v2', 'embed': {'@architectures': 'spacy.MultiHashEmbed.v2', 'width': 64, 'rows': [2000, 2000, 500, 1000, 500], 'attrs': ['NORM', 'LOWER', 'PREFIX', 'SUFFIX', 'SHAPE'], 'include_static_vectors': False}, 'encode': {'@architectures': 'spacy.MaxoutWindowEncoder.v2', 'width': 64, 'window_size': 1, 'maxout_pieces': 3, 'depth': 2}}}, 'scorer': {'@scorers': 'spacy.textcat_scorer.v2'}, 'threshold': 0.0, '@factories': 'textcat'}"
          ]
        }
      ]
    },
    {
      "cell_type": "code",
      "source": [
        "TEST_REVIEW = \"\"\"\n",
        "Transcendently beautiful in moments outside the office, it seems almost\n",
        "sitcom-like in those scenes. When Toni Colette walks out and ponders\n",
        "life silently, it's gorgeous.<br /><br />The movie doesn't seem to decide\n",
        "whether it's slapstick, farce, magical realism, or drama, but the best of it\n",
        "doesn't matter. (The worst is sort of tedious - like Office Space with less humor.)\n",
        "\"\"\""
      ],
      "metadata": {
        "id": "K7e4wG9JCL1X"
      },
      "execution_count": 55,
      "outputs": []
    },
    {
      "cell_type": "code",
      "source": [
        "def test_model(input_data: str):\n",
        "    # Загружаем сохраненную модель\n",
        "    loaded_model = spacy.load(\"model_artifacts\")\n",
        "    parsed_text = loaded_model(input_data)\n",
        "    # Определяем возвращаемое предсказание\n",
        "    if parsed_text.cats[\"pos\"] > parsed_text.cats[\"neg\"]:\n",
        "        prediction = \"Положительный отзыв\"\n",
        "        score = parsed_text.cats[\"pos\"]\n",
        "    else:\n",
        "        prediction = \"Негативный отзыв\"\n",
        "        score = parsed_text.cats[\"neg\"]\n",
        "    print(f\"Текст обзора: {input_data}\\n\\\n",
        "Предсказание: {prediction}\\n\\\n",
        "Score: {score:.3f}\")"
      ],
      "metadata": {
        "id": "PSYRqb2BCMyX"
      },
      "execution_count": 56,
      "outputs": []
    },
    {
      "cell_type": "code",
      "source": [
        "test_model(input_data=TEST_REVIEW)"
      ],
      "metadata": {
        "colab": {
          "base_uri": "https://localhost:8080/",
          "height": 293
        },
        "id": "WxeTePAvCQ8M",
        "outputId": "be226de1-0b3c-4758-8830-7ccf83a5b612"
      },
      "execution_count": 59,
      "outputs": [
        {
          "output_type": "error",
          "ename": "OSError",
          "evalue": "[E050] Can't find model 'model_artifacts'. It doesn't seem to be a Python package or a valid path to a data directory.",
          "traceback": [
            "\u001b[0;31m---------------------------------------------------------------------------\u001b[0m",
            "\u001b[0;31mOSError\u001b[0m                                   Traceback (most recent call last)",
            "\u001b[0;32m<ipython-input-59-e6009fd20f0f>\u001b[0m in \u001b[0;36m<cell line: 1>\u001b[0;34m()\u001b[0m\n\u001b[0;32m----> 1\u001b[0;31m \u001b[0mtest_model\u001b[0m\u001b[0;34m(\u001b[0m\u001b[0minput_data\u001b[0m\u001b[0;34m=\u001b[0m\u001b[0mTEST_REVIEW\u001b[0m\u001b[0;34m)\u001b[0m\u001b[0;34m\u001b[0m\u001b[0;34m\u001b[0m\u001b[0m\n\u001b[0m",
            "\u001b[0;32m<ipython-input-56-8952ef37d008>\u001b[0m in \u001b[0;36mtest_model\u001b[0;34m(input_data)\u001b[0m\n\u001b[1;32m      1\u001b[0m \u001b[0;32mdef\u001b[0m \u001b[0mtest_model\u001b[0m\u001b[0;34m(\u001b[0m\u001b[0minput_data\u001b[0m\u001b[0;34m:\u001b[0m \u001b[0mstr\u001b[0m\u001b[0;34m)\u001b[0m\u001b[0;34m:\u001b[0m\u001b[0;34m\u001b[0m\u001b[0;34m\u001b[0m\u001b[0m\n\u001b[1;32m      2\u001b[0m     \u001b[0;31m# Загружаем сохраненную модель\u001b[0m\u001b[0;34m\u001b[0m\u001b[0;34m\u001b[0m\u001b[0m\n\u001b[0;32m----> 3\u001b[0;31m     \u001b[0mloaded_model\u001b[0m \u001b[0;34m=\u001b[0m \u001b[0mspacy\u001b[0m\u001b[0;34m.\u001b[0m\u001b[0mload\u001b[0m\u001b[0;34m(\u001b[0m\u001b[0;34m\"model_artifacts\"\u001b[0m\u001b[0;34m)\u001b[0m\u001b[0;34m\u001b[0m\u001b[0;34m\u001b[0m\u001b[0m\n\u001b[0m\u001b[1;32m      4\u001b[0m     \u001b[0mparsed_text\u001b[0m \u001b[0;34m=\u001b[0m \u001b[0mloaded_model\u001b[0m\u001b[0;34m(\u001b[0m\u001b[0minput_data\u001b[0m\u001b[0;34m)\u001b[0m\u001b[0;34m\u001b[0m\u001b[0;34m\u001b[0m\u001b[0m\n\u001b[1;32m      5\u001b[0m     \u001b[0;31m# Определяем возвращаемое предсказание\u001b[0m\u001b[0;34m\u001b[0m\u001b[0;34m\u001b[0m\u001b[0m\n",
            "\u001b[0;32m/usr/local/lib/python3.10/dist-packages/spacy/__init__.py\u001b[0m in \u001b[0;36mload\u001b[0;34m(name, vocab, disable, enable, exclude, config)\u001b[0m\n\u001b[1;32m     49\u001b[0m     \u001b[0mRETURNS\u001b[0m \u001b[0;34m(\u001b[0m\u001b[0mLanguage\u001b[0m\u001b[0;34m)\u001b[0m\u001b[0;34m:\u001b[0m \u001b[0mThe\u001b[0m \u001b[0mloaded\u001b[0m \u001b[0mnlp\u001b[0m \u001b[0mobject\u001b[0m\u001b[0;34m.\u001b[0m\u001b[0;34m\u001b[0m\u001b[0;34m\u001b[0m\u001b[0m\n\u001b[1;32m     50\u001b[0m     \"\"\"\n\u001b[0;32m---> 51\u001b[0;31m     return util.load_model(\n\u001b[0m\u001b[1;32m     52\u001b[0m         \u001b[0mname\u001b[0m\u001b[0;34m,\u001b[0m\u001b[0;34m\u001b[0m\u001b[0;34m\u001b[0m\u001b[0m\n\u001b[1;32m     53\u001b[0m         \u001b[0mvocab\u001b[0m\u001b[0;34m=\u001b[0m\u001b[0mvocab\u001b[0m\u001b[0;34m,\u001b[0m\u001b[0;34m\u001b[0m\u001b[0;34m\u001b[0m\u001b[0m\n",
            "\u001b[0;32m/usr/local/lib/python3.10/dist-packages/spacy/util.py\u001b[0m in \u001b[0;36mload_model\u001b[0;34m(name, vocab, disable, enable, exclude, config)\u001b[0m\n\u001b[1;32m    470\u001b[0m     \u001b[0;32mif\u001b[0m \u001b[0mname\u001b[0m \u001b[0;32min\u001b[0m \u001b[0mOLD_MODEL_SHORTCUTS\u001b[0m\u001b[0;34m:\u001b[0m\u001b[0;34m\u001b[0m\u001b[0;34m\u001b[0m\u001b[0m\n\u001b[1;32m    471\u001b[0m         \u001b[0;32mraise\u001b[0m \u001b[0mIOError\u001b[0m\u001b[0;34m(\u001b[0m\u001b[0mErrors\u001b[0m\u001b[0;34m.\u001b[0m\u001b[0mE941\u001b[0m\u001b[0;34m.\u001b[0m\u001b[0mformat\u001b[0m\u001b[0;34m(\u001b[0m\u001b[0mname\u001b[0m\u001b[0;34m=\u001b[0m\u001b[0mname\u001b[0m\u001b[0;34m,\u001b[0m \u001b[0mfull\u001b[0m\u001b[0;34m=\u001b[0m\u001b[0mOLD_MODEL_SHORTCUTS\u001b[0m\u001b[0;34m[\u001b[0m\u001b[0mname\u001b[0m\u001b[0;34m]\u001b[0m\u001b[0;34m)\u001b[0m\u001b[0;34m)\u001b[0m  \u001b[0;31m# type: ignore[index]\u001b[0m\u001b[0;34m\u001b[0m\u001b[0;34m\u001b[0m\u001b[0m\n\u001b[0;32m--> 472\u001b[0;31m     \u001b[0;32mraise\u001b[0m \u001b[0mIOError\u001b[0m\u001b[0;34m(\u001b[0m\u001b[0mErrors\u001b[0m\u001b[0;34m.\u001b[0m\u001b[0mE050\u001b[0m\u001b[0;34m.\u001b[0m\u001b[0mformat\u001b[0m\u001b[0;34m(\u001b[0m\u001b[0mname\u001b[0m\u001b[0;34m=\u001b[0m\u001b[0mname\u001b[0m\u001b[0;34m)\u001b[0m\u001b[0;34m)\u001b[0m\u001b[0;34m\u001b[0m\u001b[0;34m\u001b[0m\u001b[0m\n\u001b[0m\u001b[1;32m    473\u001b[0m \u001b[0;34m\u001b[0m\u001b[0m\n\u001b[1;32m    474\u001b[0m \u001b[0;34m\u001b[0m\u001b[0m\n",
            "\u001b[0;31mOSError\u001b[0m: [E050] Can't find model 'model_artifacts'. It doesn't seem to be a Python package or a valid path to a data directory."
          ]
        }
      ]
    },
    {
      "cell_type": "code",
      "source": [
        "import pandas as pd\n",
        "import sklearn.metrics\n",
        "\n",
        "df = pd.read_csv(\"kinopoisk.zip\", index_col=0)\n",
        "df.sample(frac=1)[:5]"
      ],
      "metadata": {
        "colab": {
          "base_uri": "https://localhost:8080/",
          "height": 206
        },
        "id": "BCZNThQ7CU-j",
        "outputId": "3690d3b8-cf30-4c04-e4b3-ef27a48c7a7f"
      },
      "execution_count": 60,
      "outputs": [
        {
          "output_type": "execute_result",
          "data": {
            "text/plain": [
              "                                                 review  \\\n",
              "2648  Это было.\\n\\n\\nОдин из немногих случаев, когда...   \n",
              "489   Своё знакомство с сериалом я начал лишь по око...   \n",
              "1897  Фильм «Игры разума» или «Прекрасный разум» (в ...   \n",
              "70    Фильм 'Красавица и чудовище' - визуальный шеде...   \n",
              "460   Что удивительно, но с этим сериалом я познаком...   \n",
              "\n",
              "                                            translation     type  \n",
              "2648  It was.\\n\\n\\nOne of the few times when I'm con...  neutral  \n",
              "489   I started my acquaintance with the series only...     good  \n",
              "1897  The film \"A Beautiful Mind\" or \"Beautiful Mind...      bad  \n",
              "70    Beauty and the Beast is a visual masterpiece. ...     good  \n",
              "460   Surprisingly, I only got acquainted with this ...     good  "
            ],
            "text/html": [
              "\n",
              "  <div id=\"df-2e86321c-1967-4031-b4b7-ddd7859a27c6\" class=\"colab-df-container\">\n",
              "    <div>\n",
              "<style scoped>\n",
              "    .dataframe tbody tr th:only-of-type {\n",
              "        vertical-align: middle;\n",
              "    }\n",
              "\n",
              "    .dataframe tbody tr th {\n",
              "        vertical-align: top;\n",
              "    }\n",
              "\n",
              "    .dataframe thead th {\n",
              "        text-align: right;\n",
              "    }\n",
              "</style>\n",
              "<table border=\"1\" class=\"dataframe\">\n",
              "  <thead>\n",
              "    <tr style=\"text-align: right;\">\n",
              "      <th></th>\n",
              "      <th>review</th>\n",
              "      <th>translation</th>\n",
              "      <th>type</th>\n",
              "    </tr>\n",
              "  </thead>\n",
              "  <tbody>\n",
              "    <tr>\n",
              "      <th>2648</th>\n",
              "      <td>Это было.\\n\\n\\nОдин из немногих случаев, когда...</td>\n",
              "      <td>It was.\\n\\n\\nOne of the few times when I'm con...</td>\n",
              "      <td>neutral</td>\n",
              "    </tr>\n",
              "    <tr>\n",
              "      <th>489</th>\n",
              "      <td>Своё знакомство с сериалом я начал лишь по око...</td>\n",
              "      <td>I started my acquaintance with the series only...</td>\n",
              "      <td>good</td>\n",
              "    </tr>\n",
              "    <tr>\n",
              "      <th>1897</th>\n",
              "      <td>Фильм «Игры разума» или «Прекрасный разум» (в ...</td>\n",
              "      <td>The film \"A Beautiful Mind\" or \"Beautiful Mind...</td>\n",
              "      <td>bad</td>\n",
              "    </tr>\n",
              "    <tr>\n",
              "      <th>70</th>\n",
              "      <td>Фильм 'Красавица и чудовище' - визуальный шеде...</td>\n",
              "      <td>Beauty and the Beast is a visual masterpiece. ...</td>\n",
              "      <td>good</td>\n",
              "    </tr>\n",
              "    <tr>\n",
              "      <th>460</th>\n",
              "      <td>Что удивительно, но с этим сериалом я познаком...</td>\n",
              "      <td>Surprisingly, I only got acquainted with this ...</td>\n",
              "      <td>good</td>\n",
              "    </tr>\n",
              "  </tbody>\n",
              "</table>\n",
              "</div>\n",
              "    <div class=\"colab-df-buttons\">\n",
              "\n",
              "  <div class=\"colab-df-container\">\n",
              "    <button class=\"colab-df-convert\" onclick=\"convertToInteractive('df-2e86321c-1967-4031-b4b7-ddd7859a27c6')\"\n",
              "            title=\"Convert this dataframe to an interactive table.\"\n",
              "            style=\"display:none;\">\n",
              "\n",
              "  <svg xmlns=\"http://www.w3.org/2000/svg\" height=\"24px\" viewBox=\"0 -960 960 960\">\n",
              "    <path d=\"M120-120v-720h720v720H120Zm60-500h600v-160H180v160Zm220 220h160v-160H400v160Zm0 220h160v-160H400v160ZM180-400h160v-160H180v160Zm440 0h160v-160H620v160ZM180-180h160v-160H180v160Zm440 0h160v-160H620v160Z\"/>\n",
              "  </svg>\n",
              "    </button>\n",
              "\n",
              "  <style>\n",
              "    .colab-df-container {\n",
              "      display:flex;\n",
              "      gap: 12px;\n",
              "    }\n",
              "\n",
              "    .colab-df-convert {\n",
              "      background-color: #E8F0FE;\n",
              "      border: none;\n",
              "      border-radius: 50%;\n",
              "      cursor: pointer;\n",
              "      display: none;\n",
              "      fill: #1967D2;\n",
              "      height: 32px;\n",
              "      padding: 0 0 0 0;\n",
              "      width: 32px;\n",
              "    }\n",
              "\n",
              "    .colab-df-convert:hover {\n",
              "      background-color: #E2EBFA;\n",
              "      box-shadow: 0px 1px 2px rgba(60, 64, 67, 0.3), 0px 1px 3px 1px rgba(60, 64, 67, 0.15);\n",
              "      fill: #174EA6;\n",
              "    }\n",
              "\n",
              "    .colab-df-buttons div {\n",
              "      margin-bottom: 4px;\n",
              "    }\n",
              "\n",
              "    [theme=dark] .colab-df-convert {\n",
              "      background-color: #3B4455;\n",
              "      fill: #D2E3FC;\n",
              "    }\n",
              "\n",
              "    [theme=dark] .colab-df-convert:hover {\n",
              "      background-color: #434B5C;\n",
              "      box-shadow: 0px 1px 3px 1px rgba(0, 0, 0, 0.15);\n",
              "      filter: drop-shadow(0px 1px 2px rgba(0, 0, 0, 0.3));\n",
              "      fill: #FFFFFF;\n",
              "    }\n",
              "  </style>\n",
              "\n",
              "    <script>\n",
              "      const buttonEl =\n",
              "        document.querySelector('#df-2e86321c-1967-4031-b4b7-ddd7859a27c6 button.colab-df-convert');\n",
              "      buttonEl.style.display =\n",
              "        google.colab.kernel.accessAllowed ? 'block' : 'none';\n",
              "\n",
              "      async function convertToInteractive(key) {\n",
              "        const element = document.querySelector('#df-2e86321c-1967-4031-b4b7-ddd7859a27c6');\n",
              "        const dataTable =\n",
              "          await google.colab.kernel.invokeFunction('convertToInteractive',\n",
              "                                                    [key], {});\n",
              "        if (!dataTable) return;\n",
              "\n",
              "        const docLinkHtml = 'Like what you see? Visit the ' +\n",
              "          '<a target=\"_blank\" href=https://colab.research.google.com/notebooks/data_table.ipynb>data table notebook</a>'\n",
              "          + ' to learn more about interactive tables.';\n",
              "        element.innerHTML = '';\n",
              "        dataTable['output_type'] = 'display_data';\n",
              "        await google.colab.output.renderOutput(dataTable, element);\n",
              "        const docLink = document.createElement('div');\n",
              "        docLink.innerHTML = docLinkHtml;\n",
              "        element.appendChild(docLink);\n",
              "      }\n",
              "    </script>\n",
              "  </div>\n",
              "\n",
              "\n",
              "<div id=\"df-e983434f-cbe4-4435-ab55-b5699bb1798b\">\n",
              "  <button class=\"colab-df-quickchart\" onclick=\"quickchart('df-e983434f-cbe4-4435-ab55-b5699bb1798b')\"\n",
              "            title=\"Suggest charts\"\n",
              "            style=\"display:none;\">\n",
              "\n",
              "<svg xmlns=\"http://www.w3.org/2000/svg\" height=\"24px\"viewBox=\"0 0 24 24\"\n",
              "     width=\"24px\">\n",
              "    <g>\n",
              "        <path d=\"M19 3H5c-1.1 0-2 .9-2 2v14c0 1.1.9 2 2 2h14c1.1 0 2-.9 2-2V5c0-1.1-.9-2-2-2zM9 17H7v-7h2v7zm4 0h-2V7h2v10zm4 0h-2v-4h2v4z\"/>\n",
              "    </g>\n",
              "</svg>\n",
              "  </button>\n",
              "\n",
              "<style>\n",
              "  .colab-df-quickchart {\n",
              "      --bg-color: #E8F0FE;\n",
              "      --fill-color: #1967D2;\n",
              "      --hover-bg-color: #E2EBFA;\n",
              "      --hover-fill-color: #174EA6;\n",
              "      --disabled-fill-color: #AAA;\n",
              "      --disabled-bg-color: #DDD;\n",
              "  }\n",
              "\n",
              "  [theme=dark] .colab-df-quickchart {\n",
              "      --bg-color: #3B4455;\n",
              "      --fill-color: #D2E3FC;\n",
              "      --hover-bg-color: #434B5C;\n",
              "      --hover-fill-color: #FFFFFF;\n",
              "      --disabled-bg-color: #3B4455;\n",
              "      --disabled-fill-color: #666;\n",
              "  }\n",
              "\n",
              "  .colab-df-quickchart {\n",
              "    background-color: var(--bg-color);\n",
              "    border: none;\n",
              "    border-radius: 50%;\n",
              "    cursor: pointer;\n",
              "    display: none;\n",
              "    fill: var(--fill-color);\n",
              "    height: 32px;\n",
              "    padding: 0;\n",
              "    width: 32px;\n",
              "  }\n",
              "\n",
              "  .colab-df-quickchart:hover {\n",
              "    background-color: var(--hover-bg-color);\n",
              "    box-shadow: 0 1px 2px rgba(60, 64, 67, 0.3), 0 1px 3px 1px rgba(60, 64, 67, 0.15);\n",
              "    fill: var(--button-hover-fill-color);\n",
              "  }\n",
              "\n",
              "  .colab-df-quickchart-complete:disabled,\n",
              "  .colab-df-quickchart-complete:disabled:hover {\n",
              "    background-color: var(--disabled-bg-color);\n",
              "    fill: var(--disabled-fill-color);\n",
              "    box-shadow: none;\n",
              "  }\n",
              "\n",
              "  .colab-df-spinner {\n",
              "    border: 2px solid var(--fill-color);\n",
              "    border-color: transparent;\n",
              "    border-bottom-color: var(--fill-color);\n",
              "    animation:\n",
              "      spin 1s steps(1) infinite;\n",
              "  }\n",
              "\n",
              "  @keyframes spin {\n",
              "    0% {\n",
              "      border-color: transparent;\n",
              "      border-bottom-color: var(--fill-color);\n",
              "      border-left-color: var(--fill-color);\n",
              "    }\n",
              "    20% {\n",
              "      border-color: transparent;\n",
              "      border-left-color: var(--fill-color);\n",
              "      border-top-color: var(--fill-color);\n",
              "    }\n",
              "    30% {\n",
              "      border-color: transparent;\n",
              "      border-left-color: var(--fill-color);\n",
              "      border-top-color: var(--fill-color);\n",
              "      border-right-color: var(--fill-color);\n",
              "    }\n",
              "    40% {\n",
              "      border-color: transparent;\n",
              "      border-right-color: var(--fill-color);\n",
              "      border-top-color: var(--fill-color);\n",
              "    }\n",
              "    60% {\n",
              "      border-color: transparent;\n",
              "      border-right-color: var(--fill-color);\n",
              "    }\n",
              "    80% {\n",
              "      border-color: transparent;\n",
              "      border-right-color: var(--fill-color);\n",
              "      border-bottom-color: var(--fill-color);\n",
              "    }\n",
              "    90% {\n",
              "      border-color: transparent;\n",
              "      border-bottom-color: var(--fill-color);\n",
              "    }\n",
              "  }\n",
              "</style>\n",
              "\n",
              "  <script>\n",
              "    async function quickchart(key) {\n",
              "      const quickchartButtonEl =\n",
              "        document.querySelector('#' + key + ' button');\n",
              "      quickchartButtonEl.disabled = true;  // To prevent multiple clicks.\n",
              "      quickchartButtonEl.classList.add('colab-df-spinner');\n",
              "      try {\n",
              "        const charts = await google.colab.kernel.invokeFunction(\n",
              "            'suggestCharts', [key], {});\n",
              "      } catch (error) {\n",
              "        console.error('Error during call to suggestCharts:', error);\n",
              "      }\n",
              "      quickchartButtonEl.classList.remove('colab-df-spinner');\n",
              "      quickchartButtonEl.classList.add('colab-df-quickchart-complete');\n",
              "    }\n",
              "    (() => {\n",
              "      let quickchartButtonEl =\n",
              "        document.querySelector('#df-e983434f-cbe4-4435-ab55-b5699bb1798b button');\n",
              "      quickchartButtonEl.style.display =\n",
              "        google.colab.kernel.accessAllowed ? 'block' : 'none';\n",
              "    })();\n",
              "  </script>\n",
              "</div>\n",
              "    </div>\n",
              "  </div>\n"
            ],
            "application/vnd.google.colaboratory.intrinsic+json": {
              "type": "dataframe",
              "summary": "{\n  \"name\": \"df\",\n  \"rows\": 5,\n  \"fields\": [\n    {\n      \"column\": \"review\",\n      \"properties\": {\n        \"dtype\": \"string\",\n        \"num_unique_values\": 5,\n        \"samples\": [\n          \"\\u0421\\u0432\\u043e\\u0451 \\u0437\\u043d\\u0430\\u043a\\u043e\\u043c\\u0441\\u0442\\u0432\\u043e \\u0441 \\u0441\\u0435\\u0440\\u0438\\u0430\\u043b\\u043e\\u043c \\u044f \\u043d\\u0430\\u0447\\u0430\\u043b \\u043b\\u0438\\u0448\\u044c \\u043f\\u043e \\u043e\\u043a\\u043e\\u043d\\u0447\\u0430\\u043d\\u0438\\u0438 \\u0432\\u0441\\u0435\\u0445 8 \\u0441\\u0435\\u0437\\u043e\\u043d\\u043e\\u0432, \\u0437\\u043d\\u0430\\u044f \\u0432\\u0441\\u0435 \\u043e\\u0441\\u043d\\u043e\\u0432\\u043d\\u044b\\u0435 \\u0441\\u044e\\u0436\\u0435\\u0442\\u043d\\u044b\\u0435 \\u043f\\u043e\\u0432\\u043e\\u0440\\u043e\\u0442\\u044b \\u0438 \\u0434\\u0430\\u0436\\u0435 \\u043a\\u043e\\u043d\\u0446\\u043e\\u0432\\u043a\\u0443. \\u0422\\u0435\\u043c \\u043d\\u0435 \\u043c\\u0435\\u043d\\u0435\\u0435, \\u0432\\u043f\\u0435\\u0447\\u0430\\u0442\\u043b\\u0435\\u043d\\u0438\\u0435 \\u043e\\u0442 \\u043f\\u0440\\u043e\\u0441\\u043c\\u043e\\u0442\\u0440\\u0430 \\u043d\\u0438\\u0447\\u0443\\u0442\\u044c \\u043d\\u0435 \\u0438\\u0441\\u043f\\u043e\\u0440\\u0442\\u0438\\u043b\\u043e\\u0441\\u044c. \\u0420\\u0430\\u0441\\u043f\\u043e\\u043b\\u0430\\u0433\\u0430\\u044f \\u0438\\u043d\\u0444\\u043e\\u0440\\u043c\\u0430\\u0446\\u0438\\u0435\\u0439 \\u043e \\u0441\\u0443\\u0434\\u044c\\u0431\\u0435 \\u0433\\u0435\\u0440\\u043e\\u0435\\u0432 \\u043d\\u0430\\u0447\\u0438\\u043d\\u0430\\u0435\\u0448\\u044c \\u0431\\u043e\\u043b\\u0435\\u0435 \\u0432\\u0434\\u0443\\u043c\\u0447\\u0438\\u0432\\u043e \\u0441\\u043b\\u0435\\u0434\\u0438\\u0442\\u044c \\u0437\\u0430 \\u043f\\u0440\\u043e\\u0438\\u0441\\u0445\\u043e\\u0434\\u044f\\u0449\\u0438\\u043c \\u043d\\u0430 \\u044d\\u043a\\u0440\\u0430\\u043d\\u0435, \\u0430\\u043d\\u0430\\u043b\\u0438\\u0437\\u0438\\u0440\\u0443\\u0435\\u0448\\u044c \\u043f\\u043e\\u0432\\u0435\\u0434\\u0435\\u043d\\u0438\\u0435 \\u043f\\u0435\\u0440\\u0441\\u043e\\u043d\\u0430\\u0436\\u0435\\u0439, \\u0447\\u0442\\u043e\\u0431\\u044b \\u043f\\u043e\\u043d\\u044f\\u0442\\u044c \\u0438\\u0437-\\u0437\\u0430 \\u0447\\u0435\\u0433\\u043e, \\u0432 \\u0438\\u0442\\u043e\\u0433\\u0435, \\u043f\\u0440\\u043e\\u0438\\u0437\\u043e\\u0448\\u043b\\u043e \\u0442\\u043e \\u0438\\u043b\\u0438 \\u0438\\u043d\\u043e\\u0435 \\u0441\\u043e\\u0431\\u044b\\u0442\\u0438\\u0435. \\u0411\\u043b\\u0430\\u0433\\u043e\\u0434\\u0430\\u0440\\u044f \\u044d\\u0442\\u043e\\u043c\\u0443, \\u044f \\u0441\\u043c\\u043e\\u0433 \\u0432 \\u043f\\u043e\\u043b\\u043d\\u043e\\u0439 \\u043c\\u0435\\u0440\\u0435 \\u043e\\u0446\\u0435\\u043d\\u0438\\u0442\\u044c \\u043f\\u0440\\u0435\\u043b\\u0435\\u0441\\u0442\\u044c \\u0434\\u0430\\u043d\\u043d\\u043e\\u0433\\u043e \\u0441\\u0435\\u0440\\u0438\\u0430\\u043b\\u0430 \\u2014 \\u043f\\u0435\\u0440\\u0441\\u043e\\u043d\\u0430\\u0436\\u0435\\u0439 \\u0438 \\u0438\\u0445 \\u0432\\u0437\\u0430\\u0438\\u043c\\u043e\\u0434\\u0435\\u0439\\u0441\\u0442\\u0432\\u0438\\u044f \\u043c\\u0435\\u0436\\u0434\\u0443 \\u0441\\u043e\\u0431\\u043e\\u0439.\\n\\n\\n\\u0412\\u0441\\u0435 \\u043e\\u0441\\u043d\\u043e\\u0432\\u043d\\u044b\\u0435 \\u0433\\u0435\\u0440\\u043e\\u0438 \\u043e\\u0447\\u0435\\u043d\\u044c \\u043f\\u0440\\u043e\\u0442\\u0438\\u0432\\u043e\\u0440\\u0435\\u0447\\u0438\\u0432\\u044b, \\u043d\\u043e \\u0438\\u043c\\u0435\\u043d\\u043d\\u043e \\u044d\\u0442\\u0438\\u043c \\u043e\\u043d\\u0438 \\u0438 \\u0446\\u0435\\u043f\\u043b\\u044f\\u044e\\u0442, \\u0432\\u043e\\u0441\\u043f\\u0440\\u0438\\u043d\\u0438\\u043c\\u0430\\u044e\\u0442\\u0441\\u044f \\u043a\\u0430\\u043a \\u043e\\u0431\\u044b\\u0447\\u043d\\u044b\\u0435 \\u043b\\u044e\\u0434\\u0438, \\u0447\\u0442\\u043e \\u043f\\u0440\\u0438\\u0434\\u0430\\u0451\\u0442 \\u0440\\u0435\\u0430\\u043b\\u0438\\u0437\\u043c\\u0430 \\u043f\\u0440\\u043e\\u0438\\u0441\\u0445\\u043e\\u0434\\u044f\\u0449\\u0435\\u043c\\u0443. \\u041e\\u0441\\u043e\\u0431\\u0435\\u043d\\u043d\\u043e\\u0433\\u043e \\u0432\\u043d\\u0438\\u043c\\u0430\\u043d\\u0438\\u044f \\u0437\\u0430\\u0441\\u043b\\u0443\\u0436\\u0438\\u0432\\u0430\\u0435\\u0442 \\u0438\\u0445 \\u0440\\u0430\\u0437\\u0432\\u0438\\u0442\\u0438\\u0435 \\u043e\\u0442 \\u0441\\u0435\\u0437\\u043e\\u043d\\u0430 \\u043a \\u0441\\u0435\\u0437\\u043e\\u043d\\u0443. \\u0412 \\u0418\\u0433\\u0440\\u0435 \\u041f\\u0440\\u0435\\u0441\\u0442\\u043e\\u043b\\u043e\\u0432 \\u043d\\u0435\\u0442 \\u0447\\u0451\\u0442\\u043a\\u043e\\u0433\\u043e \\u0440\\u0430\\u0437\\u0434\\u0435\\u043b\\u0435\\u043d\\u0438\\u044f \\u043d\\u0430 \\u0414\\u043e\\u0431\\u0440\\u043e \\u0438 \\u0417\\u043b\\u043e. \\u0412\\u0441\\u0435 \\u043f\\u043e\\u0441\\u0442\\u0443\\u043f\\u043a\\u0438 \\u0433\\u0435\\u0440\\u043e\\u0435\\u0432 \\u0438\\u043c\\u0435\\u044e\\u0442 \\u043e\\u043f\\u0440\\u0435\\u0434\\u0435\\u043b\\u0435\\u043d\\u043d\\u044b\\u0435 \\u043c\\u043e\\u0442\\u0438\\u0432\\u044b, \\u043a\\u043e\\u0442\\u043e\\u0440\\u044b\\u0435 \\u0445\\u043e\\u0440\\u043e\\u0448\\u0438 \\u0434\\u043b\\u044f \\u043e\\u0434\\u043d\\u0438\\u0445, \\u043d\\u043e \\u043f\\u043b\\u043e\\u0445\\u0438 \\u0434\\u043b\\u044f \\u0434\\u0440\\u0443\\u0433\\u0438\\u0445. \\u041d\\u0430 \\u044d\\u0442\\u043e\\u043c \\u0438 \\u0432\\u044b\\u044f\\u0432\\u043b\\u044f\\u0435\\u0442\\u0441\\u044f \\u043e\\u0441\\u043d\\u043e\\u0432\\u0430 \\u0441\\u0435\\u0440\\u0438\\u0430\\u043b\\u0430 \\u2014 \\u0432\\u0437\\u0430\\u0438\\u043c\\u043e\\u043e\\u0442\\u043d\\u043e\\u0448\\u0435\\u043d\\u0438\\u044f \\u043b\\u044e\\u0434\\u0435\\u0439, \\u0432\\u043a\\u043b\\u044e\\u0447\\u0430\\u044e\\u0449\\u0438\\u0435 \\u0432 \\u0441\\u0435\\u0431\\u044f \\u043d\\u0435 \\u0442\\u043e\\u043b\\u044c\\u043a\\u043e \\u043f\\u043e\\u043b\\u0438\\u0442\\u0438\\u043a\\u0443, \\u043d\\u043e \\u0438 \\u043e\\u0431\\u044b\\u0447\\u043d\\u044b\\u0435 \\u0432\\u0437\\u0430\\u0438\\u043c\\u043e\\u0434\\u0435\\u0439\\u0441\\u0442\\u0432\\u0438\\u044f \\u0432 \\u0441\\u0435\\u043c\\u044c\\u0435, \\u0432 \\u043a\\u0440\\u0443\\u0433\\u0443 \\u043d\\u0435\\u0437\\u043d\\u0430\\u043a\\u043e\\u043c\\u0446\\u0435\\u0432 \\u0438 \\u0434\\u0440\\u0443\\u0437\\u0435\\u0439. \\u0417\\u0430\\u0442\\u0440\\u0430\\u0433\\u0438\\u0432\\u0430\\u044e\\u0442\\u0441\\u044f \\u0442\\u0435\\u043c\\u044b \\u0434\\u0440\\u0443\\u0436\\u0431\\u044b, \\u043f\\u0440\\u0435\\u0434\\u0430\\u0442\\u0435\\u043b\\u044c\\u0441\\u0442\\u0432\\u0430 \\u0438 \\u0432\\u0435\\u0440\\u043d\\u043e\\u0441\\u0442\\u0438, \\u0433\\u043e\\u0440\\u0434\\u043e\\u0441\\u0442\\u0438 \\u0438 \\u0447\\u0435\\u0441\\u0442\\u0438, \\u0435\\u0434\\u0438\\u043d\\u0441\\u0442\\u0432\\u0430 \\u043b\\u044e\\u0434\\u0435\\u0439. \\n\\n\\n\\u041f\\u043e\\u043b\\u0438\\u0442\\u0438\\u0447\\u0435\\u0441\\u043a\\u0430\\u044f \\u0441\\u0442\\u043e\\u0440\\u043e\\u043d\\u0430 \\u0441\\u0435\\u0440\\u0438\\u0430\\u043b\\u0430 \\u043e\\u0447\\u0435\\u043d\\u044c \\u0438\\u043d\\u0442\\u0435\\u0440\\u0435\\u0441\\u043d\\u0430 \\u0441 \\u043f\\u0441\\u0438\\u0445\\u043e\\u043b\\u043e\\u0433\\u0438\\u0447\\u0435\\u0441\\u043a\\u043e\\u0439 \\u0442\\u043e\\u0447\\u043a\\u0438 \\u0437\\u0440\\u0435\\u043d\\u0438\\u044f. \\u0423 \\u043c\\u043d\\u043e\\u0433\\u0438\\u0445 \\u043f\\u0435\\u0440\\u0441\\u043e\\u043d\\u0430\\u0436\\u0435\\u0439 \\u043c\\u043e\\u0436\\u043d\\u043e \\u043f\\u043e\\u0443\\u0447\\u0438\\u0442\\u044c\\u0441\\u044f \\u0438\\u0441\\u043a\\u0443\\u0441\\u0441\\u0442\\u0432\\u0443 \\u0434\\u0438\\u043f\\u043b\\u043e\\u043c\\u0430\\u0442\\u0438\\u0438, \\u0443\\u043c\\u0435\\u043d\\u0438\\u044e \\u0441\\u043b\\u0443\\u0448\\u0430\\u0442\\u044c \\u0438 \\u00ab\\u0447\\u0438\\u0442\\u0430\\u0442\\u044c\\u00bb \\u0434\\u0440\\u0443\\u0433\\u0438\\u0445 \\u043b\\u044e\\u0434\\u0435\\u0439. \\u0418\\u0433\\u0440\\u0430 \\u041f\\u0440\\u0435\\u0441\\u0442\\u043e\\u043b\\u043e\\u0432 \\u043f\\u043e\\u043c\\u043e\\u0433\\u0430\\u0435\\u0442 \\u043e\\u0446\\u0435\\u043d\\u0438\\u0442\\u044c \\u0440\\u0435\\u0430\\u043b\\u044c\\u043d\\u0443\\u044e \\u0446\\u0435\\u043d\\u043d\\u043e\\u0441\\u0442\\u044c \\u0438 \\u0441\\u0438\\u043b\\u0443 \\u0438\\u043d\\u0444\\u043e\\u0440\\u043c\\u0430\\u0446\\u0438\\u0438, \\u0433\\u0440\\u0430\\u043c\\u043e\\u0442\\u043d\\u043e \\u043f\\u043e\\u043b\\u044c\\u0437\\u043e\\u0432\\u0430\\u0442\\u044c\\u0441\\u044f \\u0432\\u043b\\u0430\\u0441\\u0442\\u044c\\u044e, \\u0443\\u0447\\u0438\\u0442\\u044b\\u0432\\u0430\\u0442\\u044c \\u043c\\u043d\\u0435\\u043d\\u0438\\u0435 \\u043f\\u043e\\u0434\\u0447\\u0438\\u043d\\u0435\\u043d\\u043d\\u044b\\u0445 \\u0438 \\u0434\\u0435\\u0439\\u0441\\u0442\\u0432\\u043e\\u0432\\u0430\\u0442\\u044c \\u043d\\u0435 \\u0442\\u043e\\u043b\\u044c\\u043a\\u043e \\u0432 \\u0441\\u0432\\u043e\\u0438\\u0445 \\u043a\\u043e\\u0440\\u044b\\u0441\\u0442\\u043d\\u044b\\u0445 \\u0446\\u0435\\u043b\\u044f\\u0445. \\n\\n\\u0412\\u043b\\u0430\\u0441\\u0442\\u044c \\u043f\\u0440\\u0435\\u0431\\u044b\\u0432\\u0430\\u0435\\u0442 \\u0442\\u0430\\u043c, \\u043a\\u0443\\u0434\\u0430 \\u043f\\u043e\\u043c\\u0435\\u0449\\u0430\\u0435\\u0442 \\u0435\\u0451 \\u0432\\u0441\\u0435\\u043e\\u0431\\u0449\\u0430\\u044f \\u0432\\u0435\\u0440\\u0430. \\u042d\\u0442\\u043e \\u0443\\u043b\\u043e\\u0432\\u043a\\u0430, \\u0442\\u0435\\u043d\\u044c \\u043d\\u0430 \\u0441\\u0442\\u0435\\u043d\\u0435. \\u0418 \\u043f\\u043e\\u0440\\u043e\\u0439 \\u043e\\u0447\\u0435\\u043d\\u044c \\u043c\\u0430\\u043b\\u0435\\u043d\\u044c\\u043a\\u0438\\u0439 \\u0447\\u0435\\u043b\\u043e\\u0432\\u0435\\u043a \\u043e\\u0442\\u0431\\u0440\\u0430\\u0441\\u044b\\u0432\\u0430\\u0435\\u0442 \\u043e\\u0447\\u0435\\u043d\\u044c \\u0431\\u043e\\u043b\\u044c\\u0448\\u0443\\u044e \\u0442\\u0435\\u043d\\u044c. \\u00a9 \\u041b\\u043e\\u0440\\u0434 \\u0412\\u0430\\u0440\\u0438\\u0441\\n\\n\\n\\u041a \\u0441\\u043e\\u0436\\u0430\\u043b\\u0435\\u043d\\u0438\\u044e, \\u0443 \\u0441\\u0435\\u0440\\u0438\\u0430\\u043b\\u0430 \\u0435\\u0441\\u0442\\u044c \\u0440\\u044f\\u0434 \\u043c\\u0438\\u043d\\u0443\\u0441\\u043e\\u0432, \\u043a\\u043e\\u0442\\u043e\\u0440\\u044b\\u0435 \\u0430\\u043a\\u0442\\u0438\\u0432\\u043d\\u043e \\u043f\\u0440\\u043e\\u044f\\u0432\\u043b\\u044f\\u044e\\u0442\\u0441\\u044f \\u043d\\u0430\\u0447\\u0438\\u043d\\u0430\\u044f \\u0441 5 \\u0441\\u0435\\u0437\\u043e\\u043d\\u0430. \\u041f\\u043e\\u0441\\u0442\\u0443\\u043f\\u043a\\u0438 \\u0433\\u0435\\u0440\\u043e\\u0435\\u0432 \\u0441\\u0442\\u0430\\u043d\\u043e\\u0432\\u044f\\u0442\\u0441\\u044f \\u0433\\u043b\\u0443\\u043f\\u044b\\u043c\\u0438 \\u0438 \\u043d\\u0435\\u043e\\u043f\\u0440\\u0430\\u0432\\u0434\\u0430\\u043d\\u043d\\u044b\\u043c\\u0438, \\u043f\\u043e\\u0432\\u0435\\u0441\\u0442\\u0432\\u043e\\u0432\\u0430\\u043d\\u0438\\u0435 \\u0437\\u0430\\u043c\\u0435\\u0442\\u043d\\u043e \\u0443\\u0445\\u0443\\u0434\\u0448\\u0430\\u0435\\u0442\\u0441\\u044f, \\u0432\\u0441\\u0451 \\u0431\\u043e\\u043b\\u044c\\u0448\\u0435 \\u043f\\u043e\\u044f\\u0432\\u043b\\u044f\\u0435\\u0442\\u0441\\u044f \\u0444\\u0438\\u043b\\u043b\\u0435\\u0440\\u043d\\u044b\\u0445 \\u0441\\u0435\\u0440\\u0438\\u0439. \\u0412 7 \\u0438 8 \\u0441\\u0435\\u0437\\u043e\\u043d\\u0430\\u0445, \\u043f\\u043e \\u043d\\u0435 \\u043f\\u043e\\u043d\\u044f\\u0442\\u043d\\u044b\\u043c \\u043f\\u0440\\u0438\\u0447\\u0438\\u043d\\u0430\\u043c, \\u0440\\u0435\\u0437\\u043a\\u043e \\u0438\\u0437\\u043c\\u0435\\u043d\\u044f\\u044e\\u0442\\u0441\\u044f \\u043c\\u043e\\u0434\\u0435\\u043b\\u0438 \\u043f\\u043e\\u0432\\u0435\\u0434\\u0435\\u043d\\u0438\\u044f \\u043d\\u0435\\u043a\\u043e\\u0442\\u043e\\u0440\\u044b\\u0445 \\u0434\\u0435\\u0439\\u0441\\u0442\\u0432\\u0443\\u044e\\u0449\\u0438\\u0445 \\u043b\\u0438\\u0446. \\u041f\\u0440\\u043e\\u0438\\u0441\\u0445\\u043e\\u0434\\u044f\\u0442 \\u044f\\u0432\\u043d\\u044b\\u0435 \\u0441\\u043b\\u0438\\u0432\\u044b \\u043f\\u0435\\u0440\\u0441\\u043e\\u043d\\u0430\\u0436\\u0435\\u0439, \\u0434\\u043e\\u0441\\u0442\\u043e\\u0439\\u043d\\u0443\\u044e \\u0441\\u043c\\u0435\\u0440\\u0442\\u044c \\u043f\\u043e\\u043b\\u0443\\u0447\\u0430\\u044e\\u0442 \\u043b\\u0438\\u0448\\u044c \\u043d\\u0435\\u043c\\u043d\\u043e\\u0433\\u0438\\u0435 \\u0438\\u0437 \\u043d\\u0438\\u0445.\\n\\n\\n\\u0422\\u0435\\u043c \\u043d\\u0435 \\u043c\\u0435\\u043d\\u0435\\u0435, \\u0441\\u043c\\u043e\\u0442\\u0440\\u0435\\u0442\\u044c \\u043d\\u0430 \\u043f\\u0440\\u043e\\u0438\\u0441\\u0445\\u043e\\u0434\\u044f\\u0449\\u0435\\u0435 \\u0432\\u0441\\u0451 \\u0436\\u0435 \\u0445\\u043e\\u0447\\u0435\\u0442\\u0441\\u044f. \\u0413\\u043b\\u0430\\u0432\\u043d\\u0430\\u044f \\u0438\\u043d\\u0442\\u0440\\u0438\\u0433\\u0430 \\u0441\\u043e\\u0445\\u0440\\u0430\\u043d\\u044f\\u0435\\u0442\\u0441\\u044f \\u0434\\u043e \\u0441\\u0430\\u043c\\u043e\\u0439 \\u043f\\u043e\\u0441\\u043b\\u0435\\u0434\\u043d\\u0435\\u0439 \\u0441\\u0435\\u0440\\u0438\\u0438 \\u0444\\u0438\\u043d\\u0430\\u043b\\u044c\\u043d\\u043e\\u0433\\u043e \\u0441\\u0435\\u0437\\u043e\\u043d\\u0430, \\u0438\\u0442\\u043e\\u0433 \\u043a\\u043e\\u0442\\u043e\\u0440\\u043e\\u0433\\u043e, \\u043d\\u0430 \\u043c\\u043e\\u0439 \\u0432\\u0437\\u0433\\u043b\\u044f\\u0434, \\u043e\\u043f\\u0440\\u0430\\u0432\\u0434\\u0430\\u043d \\u0438 \\u0437\\u0430\\u043a\\u043e\\u043d\\u043e\\u043c\\u0435\\u0440\\u0435\\u043d, \\u0443\\u0447\\u0438\\u0442\\u044b\\u0432\\u0430\\u044f \\u043f\\u043e\\u0432\\u0435\\u0434\\u0435\\u043d\\u0438\\u0435 \\u0433\\u0435\\u0440\\u043e\\u0435\\u0432 \\u043f\\u043e \\u0445\\u043e\\u0434\\u0443 \\u043f\\u0440\\u0435\\u0434\\u0448\\u0435\\u0441\\u0442\\u0432\\u0443\\u044e\\u0449\\u0438\\u0445 \\u0441\\u0435\\u0440\\u0438\\u0439. \\n\\n\\u0417\\u043d\\u0430\\u0439\\u0442\\u0435 \\u0441\\u0432\\u043e\\u0438 \\u0441\\u0438\\u043b\\u044c\\u043d\\u044b\\u0435 \\u0441\\u0442\\u043e\\u0440\\u043e\\u043d\\u044b, \\u0438\\u0441\\u043f\\u043e\\u043b\\u044c\\u0437\\u0443\\u0439\\u0442\\u0435 \\u0438\\u0445 \\u043c\\u0443\\u0434\\u0440\\u043e, \\u0438 \\u043e\\u0434\\u0438\\u043d \\u0447\\u0435\\u043b\\u043e\\u0432\\u0435\\u043a \\u043c\\u043e\\u0436\\u0435\\u0442 \\u0441\\u0442\\u043e\\u0438\\u0442\\u044c \\u0434\\u0435\\u0441\\u044f\\u0442\\u0438 \\u0442\\u044b\\u0441\\u044f\\u0447. \\u00a9 \\u041f\\u0435\\u0442\\u0438\\u0440 \\u0411\\u0435\\u0439\\u043b\\u0438\\u0448\\n\\n\\n8 \\u0438\\u0437 10\",\n          \"\\u0427\\u0442\\u043e \\u0443\\u0434\\u0438\\u0432\\u0438\\u0442\\u0435\\u043b\\u044c\\u043d\\u043e, \\u043d\\u043e \\u0441 \\u044d\\u0442\\u0438\\u043c \\u0441\\u0435\\u0440\\u0438\\u0430\\u043b\\u043e\\u043c \\u044f \\u043f\\u043e\\u0437\\u043d\\u0430\\u043a\\u043e\\u043c\\u0438\\u043b\\u0441\\u044f \\u043b\\u0438\\u0448\\u044c \\u0442\\u043e\\u0433\\u0434\\u0430, \\u043a\\u043e\\u0433\\u0434\\u0430 \\u0443\\u0436\\u0435 \\u0431\\u044b\\u043b\\u0438 \\u043e\\u043f\\u0443\\u0431\\u043b\\u0438\\u043a\\u043e\\u0432\\u0430\\u043d\\u044b \\u043f\\u043e\\u0447\\u0442\\u0438 \\u0432\\u0441\\u0435 \\u0441\\u0435\\u0440\\u0438\\u0438 7-\\u043e\\u0433\\u043e \\u0441\\u0435\\u0437\\u043e\\u043d\\u0430. \\u042f \\u0441\\u043b\\u044b\\u0448\\u0430\\u043b \\u043e\\u0431 \\u044d\\u0442\\u043e\\u043c \\u0441\\u0435\\u0440\\u0438\\u0430\\u043b\\u0435 \\u0430\\u0431\\u0441\\u043e\\u043b\\u044e\\u0442\\u043d\\u043e \\u043e\\u0442 \\u0432\\u0441\\u0435\\u0445 \\u0437\\u043d\\u0430\\u043a\\u043e\\u043c\\u044b\\u0445, \\u043a\\u043e\\u0442\\u043e\\u0440\\u044b\\u0435 \\u0431\\u044b\\u043b\\u0438 \\u0432\\u0441\\u0435\\u0445 \\u0432\\u043e\\u0437\\u0440\\u0430\\u0441\\u0442\\u043e\\u0432. \\u041d\\u043e \\u0447\\u0435\\u0441\\u0442\\u043d\\u043e, \\u0438\\u0441\\u043a\\u0440\\u0435\\u043d\\u043d\\u0435 \\u043d\\u0435 \\u043f\\u043e\\u043d\\u0438\\u043c\\u0430\\u043b, \\u043f\\u043e\\u0447\\u0435\\u043c\\u0443 \\u0418\\u0433\\u0440\\u0430 \\u043f\\u0440\\u0435\\u0441\\u0442\\u043e\\u043b\\u043e\\u0432 \\u0441\\u0442\\u0430\\u043b\\u0430 \\u0438\\u043c\\u0435\\u043d\\u0435\\u043c \\u043d\\u0430\\u0440\\u0438\\u0446\\u0430\\u0442\\u0435\\u043b\\u044c\\u043d\\u044b\\u043c, \\u043a\\u0430\\u043a\\u0438\\u043c-\\u0442\\u043e \\u043a\\u0443\\u043b\\u044c\\u0442\\u043e\\u043c, \\u0447\\u0442\\u043e-\\u043b\\u0438, \\u043a\\u043e\\u0442\\u043e\\u0440\\u043e\\u043c\\u0443 \\u043c\\u043d\\u043e\\u0433\\u0438\\u0435 \\u043f\\u043e\\u043a\\u043b\\u043e\\u043d\\u044f\\u043b\\u0438\\u0441\\u044c. \\u0418 \\u044f \\u043d\\u0435 \\u0448\\u0443\\u0447\\u0443, \\u043c\\u043e\\u0439 \\u0434\\u0440\\u0443\\u0433 \\u0431\\u044b\\u043b \\u043d\\u0430\\u0441\\u0442\\u043e\\u043b\\u044c\\u043a\\u043e \\u0444\\u0430\\u043d\\u0430\\u0442\\u0438\\u043a\\u043e\\u043c, \\u0447\\u0442\\u043e \\u043f\\u043e\\u0441\\u043c\\u043e\\u0442\\u0440\\u0435\\u043b \\u0441\\u0435\\u0440\\u0438\\u0430\\u043b \\u0430\\u0436 3 \\u0440\\u0430\\u0437\\u0430, \\u0438\\u043c\\u0435\\u043b \\u043a\\u0443\\u0447\\u0443 \\u043e\\u0434\\u0435\\u0436\\u0434\\u0443 \\u043d\\u0430 \\u0442\\u0435\\u043c\\u0443 \\u0441\\u0435\\u0440\\u0438\\u0430\\u043b\\u0430 \\u0438 \\u0431\\u044b\\u043b \\u043f\\u043e\\u0434\\u043f\\u0438\\u0441\\u0430\\u043d \\u043d\\u0430 \\u0432\\u0441\\u0435 \\u0440\\u0435\\u0441\\u0443\\u0440\\u0441\\u044b, \\u0433\\u0434\\u0435 \\u0445\\u043e\\u0442\\u044f \\u0431\\u044b \\u0432\\u0441\\u043a\\u043e\\u043b\\u044c\\u0437\\u044c \\u0443\\u043f\\u043e\\u043c\\u0438\\u043d\\u0430\\u043b\\u043e\\u0441\\u044c \\u043f\\u0440\\u043e \\u0441\\u0435\\u0440\\u0438\\u0430\\u043b. \\u0418 \\u043e\\u043d \\u0436\\u0435 \\u0432\\u0441\\u0451-\\u0442\\u0430\\u043a\\u0438 \\u0443\\u0433\\u043e\\u0432\\u043e\\u0440\\u0438\\u043b \\u043c\\u0435\\u043d\\u044f \\u043f\\u043e\\u0441\\u043c\\u043e\\u0442\\u0440\\u0435\\u0442\\u044c \\u0445\\u043e\\u0442\\u044f \\u0431\\u044b 1 \\u0441\\u0435\\u0440\\u0438\\u044e, \\u0441\\u043a\\u0430\\u0437\\u0430\\u0432, \\u0447\\u0442\\u043e \\u044d\\u0442\\u043e \\u043f\\u0440\\u043e\\u0438\\u0437\\u043e\\u0439\\u0434\\u0451\\u0442 \\u043c\\u043e\\u043c\\u0435\\u043d\\u0442\\u0430\\u043b\\u044c\\u043d\\u043e, \\u0438 \\u0447\\u0442\\u043e \\u0441\\u043a\\u043e\\u0440\\u0435\\u0435 \\u0432\\u0441\\u0435\\u0433\\u043e \\u043e\\u043d \\u043c\\u0435\\u043d\\u044f \\u043d\\u0435 \\u0443\\u0432\\u0438\\u0434\\u0438\\u0442 \\u043d\\u0435\\u0434\\u0435\\u043b\\u044e, \\u044f \\u0435\\u0441\\u0442\\u0435\\u0441\\u0442\\u0432\\u0435\\u043d\\u043d\\u043e \\u043f\\u043e\\u0441\\u043c\\u0435\\u044f\\u043b\\u0441\\u044f \\u0438 \\u0441\\u0435\\u0440\\u044c\\u0451\\u0437\\u043d\\u043e \\u043a \\u044d\\u0442\\u043e\\u043c\\u0443 \\u043d\\u0435 \\u043e\\u0442\\u043d\\u0451\\u0441\\u0441\\u044f, \\u043f\\u043e\\u0434\\u0443\\u043c\\u0430\\u0432, \\u0447\\u0442\\u043e 1 \\u0441\\u0435\\u0440\\u0438\\u044f, \\u043a\\u0430\\u043a\\u043e\\u0439 \\u0431\\u044b \\u043e\\u043d\\u0430 \\u043d\\u0435 \\u0431\\u044b\\u043b\\u0430, \\u043d\\u0435 \\u0437\\u0430\\u0442\\u044f\\u043d\\u0435\\u0442 \\u043c\\u0435\\u043d\\u044f... \\u0434\\u0430 \\u0443\\u0436, \\u043a\\u0430\\u043a \\u0436\\u0435 \\u044f \\u0442\\u043e\\u0433\\u0434\\u0430 \\u043e\\u0448\\u0438\\u0431\\u0430\\u043b\\u0441\\u044f... \\u041d\\u043e, \\u043e\\u0431\\u043e \\u0432\\u0441\\u0451\\u043c \\u043f\\u043e \\u043f\\u043e\\u0440\\u044f\\u0434\\u043a\\u0443!\\n\\n\\n\\u041a\\u0430\\u043a \\u0442\\u043e\\u043b\\u044c\\u043a\\u043e \\u044f \\u043d\\u0430\\u0447\\u0430\\u043b \\u0441\\u043c\\u043e\\u0442\\u0440\\u0435\\u0442\\u044c \\u044d\\u0442\\u0443 \\u044d\\u043a\\u0440\\u0430\\u043d\\u0438\\u0437\\u0430\\u0446\\u0438\\u044e, \\u044f \\u043f\\u043e\\u043b\\u043d\\u043e\\u0441\\u0442\\u044c\\u044e \\u043f\\u043e\\u0433\\u0440\\u0443\\u0437\\u0438\\u043b\\u0441\\u044f \\u0432 \\u043c\\u0438\\u0440 \\u0441\\u0435\\u043c\\u0438 \\u043a\\u043e\\u0440\\u043e\\u043b\\u0435\\u0432\\u0441\\u0442\\u0432. \\u041a\\u0430\\u0440\\u0442\\u0438\\u043d\\u043a\\u0430 \\u0437\\u0430\\u0432\\u043e\\u0440\\u0430\\u0436\\u0438\\u0432\\u0430\\u0435\\u0442, \\u0443\\u043d\\u043e\\u0441\\u0438\\u0442 \\u043a\\u0443\\u0434\\u0430-\\u0442\\u043e \\u0434\\u0430\\u043b\\u0435\\u043a\\u043e, \\u044f \\u0441\\u0435\\u043b \\u0441\\u043c\\u043e\\u0442\\u0440\\u0435\\u0442\\u044c \\u0432 \\u0441\\u0435\\u043c\\u044c \\u0432\\u0435\\u0447\\u0435\\u0440\\u0430, \\u043d\\u043e \\u043d\\u0430 \\u0447\\u0430\\u0441\\u0430\\u0445 \\u0443\\u0436\\u0435 5 \\u0443\\u0442\\u0440\\u0430, \\u0438 \\u043e\\u0441\\u0442\\u0430\\u043d\\u0430\\u0432\\u043b\\u0438\\u0432\\u0430\\u0442\\u044c\\u0441\\u044f \\u0441\\u043e\\u0432\\u0441\\u0435\\u043c \\u043d\\u0435 \\u0445\\u043e\\u0447\\u0435\\u0442\\u0441\\u044f. \\u041f\\u0435\\u0440\\u0432\\u044b\\u0439 \\u0441\\u0435\\u0437\\u043e\\u043d \\u044f \\u043f\\u043e\\u0441\\u043c\\u043e\\u0442\\u0440\\u0435\\u043b \\u0431\\u043e\\u043b\\u044c\\u0448\\u0435 \\u043d\\u0430 \\u0430\\u0432\\u0442\\u043e\\u043c\\u0430\\u0442\\u0435, \\u0445\\u043e\\u0442\\u0435\\u043b\\u043e\\u0441\\u044c \\u0443\\u0437\\u043d\\u0430\\u0442\\u044c \\u043e\\u0431\\u043e \\u0432\\u0441\\u0435\\u0445 \\u0433\\u0435\\u0440\\u043e\\u044f\\u0445, \\u0432\\u043e\\u043e\\u0431\\u0449\\u0435 \\u043e\\u0431\\u043e \\u0432\\u0441\\u0451\\u043c. \\u041d\\u043e \\u043f\\u043e\\u0442\\u043e\\u043c \\u0442\\u044b \\u043f\\u043e\\u043d\\u0438\\u043c\\u0430\\u0435\\u0448\\u044c, \\u0447\\u0442\\u043e \\u044d\\u0442\\u043e\\u0442 \\u0432\\u044b\\u043c\\u044b\\u0448\\u043b\\u0435\\u043d\\u043d\\u044b\\u0439 \\u043c\\u0438\\u0440 \\u043d\\u0430\\u0441\\u0442\\u043e\\u043b\\u044c\\u043a\\u043e \\u043e\\u0433\\u0440\\u043e\\u043c\\u0435\\u043d, \\u0447\\u0442\\u043e \\u043f\\u0435\\u0440\\u0432\\u044b\\u0439 \\u0441\\u0435\\u0437\\u043e\\u043d \\u044d\\u0442\\u043e \\u043f\\u0440\\u043e\\u0441\\u0442\\u043e \\u0442\\u0440\\u0435\\u0439\\u043b\\u0435\\u0440. \\u0412\\u043e\\u0442 \\u043e\\u043d \\u0437\\u0430\\u043a\\u0430\\u043d\\u0447\\u0438\\u0432\\u0430\\u0435\\u0442\\u0441\\u044f. \\u0418 \\u0442\\u0443\\u0442 \\u0443\\u0436\\u0435 \\u044f \\u043f\\u043e\\u043d\\u0438\\u043c\\u0430\\u044e, \\u043f\\u043e\\u0447\\u0435\\u043c\\u0443 \\u0441\\u0435\\u0440\\u0438\\u0430\\u043b \\u043d\\u0430\\u0441\\u0442\\u043e\\u043b\\u044c\\u043a\\u043e \\u043f\\u043e\\u043f\\u0443\\u043b\\u044f\\u0440\\u0435\\u043d, \\u0438\\u043c\\u0435\\u043d\\u043d\\u043e \\u043f\\u043e\\u043f\\u0443\\u043b\\u044f\\u0440\\u0435\\u043d, \\u043f\\u043e\\u0442\\u043e\\u043c\\u0443 \\u0447\\u0442\\u043e \\u043b\\u0438\\u0447\\u043d\\u043e \\u044f \\u043f\\u0440\\u0438\\u0437\\u043d\\u0430\\u043b \\u0448\\u0435\\u0434\\u0435\\u0432\\u0440\\u0430\\u043b\\u044c\\u043d\\u043e\\u0441\\u0442\\u044c \\u0441\\u0435\\u0440\\u0438\\u0430\\u043b\\u0430 \\u0442\\u043e\\u043b\\u044c\\u043a\\u043e \\u0441\\u043e \\u0432\\u0442\\u043e\\u0440\\u043e\\u0433\\u043e \\u0441\\u0435\\u0437\\u043e\\u043d\\u0430. \\u0425\\u043e\\u0442\\u044f \\u0438 \\u043f\\u0435\\u0440\\u0432\\u044b\\u0439 \\u0431\\u044b\\u043b \\u0448\\u0438\\u043a\\u0430\\u0440\\u0435\\u043d, \\u044f \\u044d\\u0442\\u043e \\u043f\\u043e\\u043d\\u0438\\u043c\\u0430\\u043b, \\u043d\\u043e \\u044f \\u043f\\u043e\\u0441\\u043c\\u043e\\u0442\\u0440\\u0435\\u043b \\u0435\\u0433\\u043e \\u0442\\u0430\\u043a \\u0431\\u044b\\u0441\\u0442\\u0440\\u043e \\u0438 \\u043d\\u0430 \\u0430\\u0432\\u0442\\u043e\\u043c\\u0430\\u0442\\u0435, \\u0447\\u0442\\u043e \\u043d\\u0435 \\u0440\\u0430\\u0437\\u0434\\u0443\\u043c\\u044b\\u0432\\u0430\\u044f \\u0438 \\u043d\\u0435 \\u043f\\u0435\\u0440\\u0435\\u0436\\u0451\\u0432\\u044b\\u0432\\u0430\\u044f, \\u0442\\u0430\\u043a \\u0441\\u043a\\u0430\\u0437\\u0430\\u0442\\u044c, \\u0441\\u0440\\u0430\\u0437\\u0443 \\u043f\\u0440\\u0438\\u043d\\u044f\\u043b\\u0441\\u044f \\u0437\\u0430 \\u0432\\u0442\\u043e\\u0440\\u043e\\u0439. \\n\\n\\n\\u0421\\u0443\\u0442\\u044c \\u0432 \\u0442\\u043e\\u043c, \\u0447\\u0442\\u043e \\u043a \\u0442\\u0430\\u043a\\u043e\\u0439 \\u043c\\u0430\\u0441\\u0448\\u0442\\u0430\\u0431\\u043d\\u043e\\u0441\\u0442\\u0438 \\u043b\\u044e\\u0434\\u0438 \\u043d\\u0435 \\u043f\\u0440\\u0438\\u0432\\u044b\\u043a\\u043b\\u0438, \\u0438 \\u0438\\u0445 \\u044d\\u0442\\u043e \\u0441\\u0440\\u0430\\u0437\\u0443 \\u043f\\u043e\\u0440\\u0430\\u0437\\u0438\\u043b\\u043e. \\u0413\\u043b\\u0430\\u0432\\u043d\\u043e\\u0435 \\u0432 \\u0441\\u0435\\u0440\\u0438\\u0430\\u043b\\u0435 - \\u044d\\u0442\\u043e \\u0435\\u0433\\u043e \\u043f\\u0440\\u043e\\u0440\\u0430\\u0431\\u043e\\u0442\\u0430\\u043d\\u043d\\u043e\\u0441\\u0442\\u044c \\u0432\\u043e \\u0432\\u0441\\u0435\\u0445 \\u043f\\u043b\\u0430\\u043d\\u0430\\u0445. \\u042d\\u0442\\u043e \\u0442\\u043e\\u0442 \\u0441\\u043b\\u0443\\u0447\\u0430\\u0439, \\u043a\\u043e\\u0433\\u0434\\u0430 \\u0442\\u0440\\u0443\\u0434\\u043d\\u043e \\u043f\\u0440\\u0435\\u0434\\u0441\\u0442\\u0430\\u0432\\u0438\\u0442\\u044c, \\u0447\\u0442\\u043e \\u043c\\u043e\\u0436\\u043d\\u043e \\u0431\\u044b\\u043b\\u043e \\u0431\\u044b \\u0441\\u043d\\u044f\\u0442\\u044c \\u043b\\u0443\\u0447\\u0448\\u0435. \\u0412\\u0441\\u0451 \\u043d\\u0430\\u0441\\u0442\\u043e\\u043b\\u044c\\u043a\\u043e \\u0433\\u0430\\u0440\\u043c\\u043e\\u043d\\u0438\\u0447\\u043d\\u043e \\u0438 \\u043d\\u0430 \\u0441\\u0432\\u043e\\u0451\\u043c \\u043c\\u0435\\u0441\\u0442\\u0435.\\n\\n\\n\\u0415\\u0441\\u043b\\u0438 \\u0433\\u043e\\u0432\\u043e\\u0440\\u0438\\u0442\\u044c \\u043e\\u0431 \\u0430\\u043a\\u0442\\u0451\\u0440\\u0430\\u0445, \\u0442\\u043e \\u043f\\u043e\\u0447\\u0442\\u0438 \\u0432\\u0441\\u0435 \\u043e\\u0431\\u0440\\u0435\\u043b\\u0438 \\u0432\\u0441\\u0435\\u043c\\u0438\\u0440\\u043d\\u0443\\u044e \\u0438\\u0437\\u0432\\u0435\\u0441\\u0442\\u043d\\u043e\\u0441\\u0442\\u044c \\u0438\\u043c\\u0435\\u043d\\u043d\\u043e \\u0431\\u043b\\u0430\\u0433\\u043e\\u0434\\u0430\\u0440\\u044f \\u0441\\u0435\\u0440\\u0438\\u0430\\u043b\\u0443. \\u0414\\u0430\\u0436\\u0435 \\u043e\\u0434\\u043d\\u043e\\u0433\\u043e \\u0441\\u0435\\u0437\\u043e\\u043d\\u0430 \\u0445\\u0432\\u0430\\u0442\\u0438\\u043b\\u043e, \\u0447\\u0442\\u043e\\u0431\\u044b \\u0438\\u043c \\u0443\\u0436\\u0435 \\u043d\\u0430\\u0447\\u0430\\u043b\\u0438 \\u043f\\u043e\\u0441\\u0442\\u0443\\u043f\\u0430\\u0442\\u044c \\u0440\\u0430\\u0437\\u043d\\u043e\\u043e\\u0431\\u0440\\u0430\\u0437\\u043d\\u044b\\u0435 \\u043f\\u0440\\u0435\\u0434\\u043b\\u043e\\u0436\\u0435\\u043d\\u0438\\u044f. \\u042f \\u043d\\u0435 \\u0445\\u043e\\u0447\\u0443 \\u0433\\u043e\\u0432\\u043e\\u0440\\u0438\\u0442\\u044c \\u043e \\u043a\\u0430\\u043a\\u0438\\u0445-\\u0442\\u043e \\u043a\\u043e\\u043d\\u043a\\u0440\\u0435\\u0442\\u043d\\u044b\\u0445 \\u0430\\u043a\\u0442\\u0451\\u0440\\u0430\\u0445, \\u043f\\u043e\\u0442\\u043e\\u043c\\u0443 \\u0447\\u0442\\u043e \\u0434\\u0430\\u0436\\u0435 \\u0440\\u043e\\u043b\\u0438 \\u0432\\u0442\\u043e\\u0440\\u043e\\u0441\\u0442\\u0435\\u043f\\u0435\\u043d\\u043d\\u044b\\u0435 \\u0441\\u044b\\u0433\\u0440\\u0430\\u043d\\u044b \\u0437\\u0434\\u0435\\u0441\\u044c, \\u0442\\u0430\\u043a \\u043a\\u0430\\u043a \\u0431\\u0443\\u0434\\u0442\\u043e \\u043e\\u043d\\u0438 \\u0433\\u043b\\u0430\\u0432\\u043d\\u044b\\u0435. \\u0421\\u043a\\u0430\\u0436\\u0443 \\u043b\\u0438\\u0448\\u044c \\u043e \\u0442\\u043e\\u043c, \\u043a\\u0442\\u043e \\u0437\\u0430\\u0438\\u043d\\u0442\\u0435\\u0440\\u0435\\u0441\\u043e\\u0432\\u0430\\u043b \\u043c\\u0435\\u043d\\u044f \\u0431\\u043e\\u043b\\u044c\\u0448\\u0435 \\u0432\\u0441\\u0435\\u0445 \\u043e\\u0441\\u0442\\u0430\\u043b\\u044c\\u043d\\u044b\\u0445 \\u0438 \\u0447\\u044c\\u0451 \\u0430\\u043a\\u0442\\u0451\\u0440\\u0441\\u043a\\u043e\\u0435 \\u043c\\u0430\\u0441\\u0442\\u0435\\u0440\\u0441\\u0442\\u0432\\u043e \\u0438\\u043c\\u0435\\u043d\\u043d\\u043e \\u0432 \\u044d\\u0442\\u043e\\u043c \\u043f\\u0440\\u043e\\u0435\\u043a\\u0442\\u0435 \\u043f\\u0440\\u043e\\u0441\\u0442\\u043e \\u043f\\u0440\\u043e\\u0431\\u0438\\u043b\\u043e \\u043e\\u0431\\u043b\\u0430\\u043a\\u0430. \\u042d\\u0442\\u043e \\u043a\\u043e\\u043d\\u0435\\u0447\\u043d\\u043e \\u0436\\u0435 \\u041f\\u0438\\u0442\\u0435\\u0440 \\u0414\\u0438\\u043d\\u043a\\u043b\\u044d\\u0439\\u0434\\u0436. \\u0417\\u0430 \\u0435\\u0433\\u043e \\u0433\\u0435\\u0440\\u043e\\u0435\\u043c \\u0438\\u043d\\u0442\\u0435\\u0440\\u0435\\u0441\\u043d\\u0435\\u0435 \\u0432\\u0441\\u0435\\u0433\\u043e \\u043d\\u0430\\u0431\\u043b\\u044e\\u0434\\u0430\\u0442\\u044c. \\u041e\\u0439 \\u0434\\u0430 \\u0447\\u0442\\u043e \\u0433\\u043e\\u0432\\u043e\\u0440\\u0438\\u0442\\u044c, \\u0440\\u0430\\u0434\\u0438 \\u043d\\u0435\\u0433\\u043e \\u0432\\u043e\\u0439\\u043d\\u0443 \\u0431\\u043b\\u0438\\u043d \\u0440\\u0430\\u0437\\u0432\\u044f\\u0437\\u0430\\u043b\\u0438, \\u0440\\u0430\\u0437\\u0432\\u0435 \\u044d\\u0442\\u043e\\u0433\\u043e \\u043d\\u0435\\u0434\\u043e\\u0441\\u0442\\u0430\\u0442\\u043e\\u0447\\u043d\\u043e. \\u041e\\u043d \\u0443\\u043c\\u0451\\u043d, \\u0445\\u0438\\u0442\\u0440, \\u043e\\u0441\\u0442\\u0440\\u043e\\u0443\\u043c\\u0435\\u043d, \\u043d\\u0430\\u0447\\u0438\\u0442\\u0430\\u043d, \\u043c\\u043e\\u0436\\u0435\\u0442 \\u0434\\u043e\\u0433\\u043e\\u0432\\u043e\\u0440\\u0438\\u0442\\u044c\\u0441\\u044f \\u0441 \\u043a\\u0435\\u043c \\u0443\\u0433\\u043e\\u0434\\u043d\\u043e, \\u043a\\u0430\\u0437\\u0430\\u043b\\u043e\\u0441\\u044c \\u0431\\u044b \\u043a\\u0443\\u0442\\u0438\\u0442 \\u0438 \\u043f\\u044c\\u0451\\u0442 \\u0431\\u043e\\u043b\\u044c\\u0448\\u0443\\u044e \\u0447\\u0430\\u0441\\u0442\\u044c \\u0441\\u0435\\u0440\\u0438\\u0430\\u043b\\u0430, \\u043d\\u043e \\u0432\\u043e\\u0442 \\u043e\\u043d \\u043f\\u0440\\u0438\\u0434\\u0443\\u043c\\u044b\\u0432\\u0430\\u0435\\u0442 \\u043e\\u0442\\u043b\\u0438\\u0447\\u043d\\u044b\\u0439 \\u0441\\u0442\\u0440\\u0430\\u0442\\u0435\\u0433\\u0438\\u0447\\u0435\\u0441\\u043a\\u0438\\u0439 \\u043f\\u043b\\u0430\\u043d \\u0434\\u043b\\u044f \\u043e\\u0431\\u043e\\u0440\\u043e\\u043d\\u044b \\u0433\\u043e\\u0440\\u043e\\u0434\\u0430. \\u0412 \\u043e\\u0431\\u0449\\u0435\\u043c, \\u0433\\u0435\\u0440\\u043e\\u0439 \\u043c\\u043d\\u043e\\u0433\\u043e\\u0433\\u0440\\u0430\\u043d\\u0435\\u043d \\u0438 \\u0443\\u043d\\u0438\\u043a\\u0430\\u043b\\u0435\\u043d. \\n\\n\\n\\u0427\\u0435\\u0441\\u0442\\u043d\\u043e \\u0433\\u043e\\u0432\\u043e\\u0440\\u044f, \\u0435\\u0441\\u043b\\u0438 \\u0431\\u044b \\u043d\\u0435 \\u043e\\u0434\\u043d\\u0430 \\u0434\\u0435\\u0442\\u0430\\u043b\\u044c, \\u0442\\u043e \\u0441\\u0430\\u043c\\u044b\\u043c \\u0438\\u043d\\u0442\\u0435\\u0440\\u0435\\u0441\\u043d\\u044b\\u043c \\u0434\\u043b\\u044f \\u043c\\u0435\\u043d\\u044f \\u0431\\u044b\\u043b \\u0431\\u044b \\u0434\\u0440\\u0443\\u0433\\u043e\\u0439 \\u043d\\u0435\\u043e\\u0434\\u043d\\u043e\\u0437\\u043d\\u0430\\u0447\\u043d\\u044b\\u0439 \\u043f\\u0435\\u0440\\u0441\\u043e\\u043d\\u0430\\u0436, \\u044d\\u0442\\u043e \\u041f\\u0435\\u0442\\u0438\\u0440 \\u0411\\u0435\\u0439\\u043b\\u0438\\u0448  \\u0432 \\u0438\\u0441\\u043f\\u043e\\u043b\\u043d\\u0435\\u043d\\u0438\\u0438  \\u042d\\u0439\\u0434\\u0430\\u043d \\u0413\\u0438\\u043b\\u043b\\u0435\\u043d\\u0430, \\u043e\\u043d \\u0445\\u0438\\u0442\\u0440\\u0435\\u0435 \\u0438 \\u0443\\u043c\\u043d\\u0435\\u0435 \\u0432\\u0441\\u0435\\u0445 \\u0432\\u043c\\u0435\\u0441\\u0442\\u0435 \\u0432\\u0437\\u044f\\u0442\\u044b\\u0445 \\u0433\\u0435\\u0440\\u043e\\u0435\\u0432 \\u0438 \\u0442\\u0435\\u043c \\u0438\\u043d\\u0442\\u0435\\u0440\\u0435\\u0441\\u043d\\u0435\\u0435. \\u041e\\u043d \\u0445\\u043e\\u0447\\u0435\\u0442 \\u043f\\u043e\\u043b\\u0443\\u0447\\u0438\\u0442\\u044c \\u0442\\u0440\\u043e\\u043d \\u0438 \\u043d\\u0435 \\u0432\\u0438\\u0434\\u0438\\u0442 \\u043d\\u0438\\u043a\\u0430\\u043a\\u0438\\u0445 \\u043f\\u0440\\u0435\\u043f\\u044f\\u0442\\u0441\\u0442\\u0432\\u0438\\u0439, \\u0442\\u043e \\u043e\\u043d \\u0443\\u043f\\u0440\\u0430\\u0432\\u043b\\u044f\\u0435\\u0442 \\u043a\\u0430\\u0437\\u043d\\u043e\\u0439 \\u0438 \\u0438\\u043c\\u0435\\u0435\\u0442 \\u0441\\u043e\\u0431\\u0441\\u0442\\u0432\\u0435\\u043d\\u043d\\u044b\\u0439 \\u0431\\u043e\\u0440\\u0434\\u0435\\u043b\\u044c, \\u0442\\u043e \\u0443 \\u043d\\u0435\\u0433\\u043e \\u0443\\u0436\\u0435 \\u0441\\u0432\\u043e\\u0439 \\u0437\\u0430\\u043c\\u043e\\u043a, \\u0432\\u043e\\u0442 \\u0443\\u0436\\u0435 \\u0438 \\u0432\\u043e\\u0439\\u0441\\u043a\\u043e, \\u0438 \\u043e\\u0447\\u0435\\u0432\\u0438\\u0434\\u043d\\u043e, \\u0447\\u0442\\u043e \\u0438 \\u0434\\u043e \\u0442\\u0440\\u043e\\u043d\\u0430 \\u043d\\u0435\\u0434\\u0430\\u043b\\u0435\\u043a\\u043e. \\u041d\\u0435 \\u0431\\u0443\\u0434\\u0443 \\u043f\\u0438\\u0441\\u0430\\u0442\\u044c, \\u0447\\u0442\\u043e \\u0441 \\u043d\\u0438\\u043c \\u0441\\u0442\\u0430\\u043d\\u0435\\u0442, \\u043d\\u043e \\u0441\\u043a\\u0430\\u0436\\u0443 \\u043b\\u0438\\u0448\\u044c, \\u0447\\u0442\\u043e \\u044d\\u0442\\u043e \\u0441\\u0430\\u043c\\u044b\\u0439 \\u043d\\u0435\\u043b\\u0435\\u043f\\u044b\\u0439 \\u0438 \\u043e\\u0431\\u0438\\u0434\\u043d\\u044b\\u0439, \\u043d\\u043e \\u0432\\u043f\\u043e\\u043b\\u043d\\u0435 \\u043e\\u0436\\u0438\\u0434\\u0430\\u0435\\u043c\\u044b\\u0439 \\u043f\\u043e\\u0432\\u043e\\u0440\\u043e\\u0442. \\u041f\\u043e\\u0447\\u0435\\u043c\\u0443 \\u0436\\u0435 \\u0435\\u0433\\u043e \\u043c\\u0435\\u0441\\u0442\\u043e \\u0437\\u0430\\u043d\\u044f\\u043b \\u043e\\u0431\\u0430\\u044f\\u0442\\u0435\\u043b\\u044c\\u043d\\u044b\\u0439 \\u043a\\u0430\\u0440\\u043b\\u0438\\u043a? - \\u0414\\u0430 \\u0432\\u0441\\u0451 \\u043f\\u0440\\u043e\\u0441\\u0442\\u043e!  \\u042d\\u0442\\u043e \\u044d\\u043a\\u0440\\u0430\\u043d\\u043d\\u043e\\u0435 \\u0432\\u0440\\u0435\\u043c\\u044f, \\u043d\\u0430\\u043c \\u043f\\u0440\\u043e\\u0441\\u0442\\u043e \\u043d\\u0435 \\u0434\\u0430\\u044e\\u0442 \\u043b\\u044e\\u0431\\u043e\\u0432\\u0430\\u0442\\u044c\\u0441\\u044f \\u0435\\u0433\\u043e \\u0438\\u0433\\u0440\\u043e\\u0439 \\u0438 \\u043c\\u0430\\u043d\\u0438\\u043f\\u0443\\u043b\\u044f\\u0446\\u0438\\u044f\\u043c\\u0438 \\u043d\\u0430\\u0434 \\u0434\\u0440\\u0443\\u0433\\u0438\\u043c\\u0438. \\u0415\\u0433\\u043e \\u0432 \\u0441\\u0435\\u0440\\u0438\\u0430\\u043b\\u0435 \\u043d\\u0430\\u0441\\u0442\\u043e\\u043b\\u044c\\u043a\\u043e \\u043c\\u0430\\u043b\\u043e, \\u0447\\u0442\\u043e \\u043f\\u043e\\u0440\\u043e\\u0439 \\u0438 \\u0437\\u0430\\u0431\\u044b\\u0432\\u0430\\u0435\\u0448\\u044c \\u043e \\u0435\\u0433\\u043e \\u0441\\u0443\\u0449\\u0435\\u0441\\u0442\\u0432\\u043e\\u0432\\u0430\\u043d\\u0438\\u0438 \\u0432\\u043e\\u043e\\u0431\\u0449\\u0435.\\n\\n\\n\\u0410 \\u0435\\u0449\\u0451 \\u0441\\u0435\\u0440\\u0438\\u0430\\u043b \\u043d\\u0430\\u0441\\u0442\\u043e\\u043b\\u044c\\u043a\\u043e \\u0442\\u0435\\u0441\\u043d\\u043e \\u0441\\u0432\\u044f\\u0437\\u0430\\u043d \\u0441 \\u0440\\u0435\\u043b\\u0438\\u0433\\u0438\\u0435\\u0439 \\u0438 \\u0435\\u0441\\u0442\\u044c \\u0441\\u0446\\u0435\\u043d\\u044b, \\u043f\\u043e\\u0441\\u043b\\u0435 \\u043a\\u043e\\u0442\\u043e\\u0440\\u044b\\u0445 \\u0432\\u044b \\u0432\\u043f\\u043e\\u043b\\u043d\\u0435 \\u0432\\u043e\\u0437\\u043c\\u043e\\u0436\\u043d\\u043e \\u0437\\u0430\\u0434\\u0443\\u043c\\u0430\\u0435\\u0442\\u0435\\u0441\\u044c \\u043e \\u0441\\u0435\\u0440\\u044c\\u0451\\u0437\\u043d\\u043e\\u043c \\u043f\\u0435\\u0440\\u0435\\u0441\\u043c\\u043e\\u0442\\u0440\\u0435\\u043d\\u0438\\u0438 \\u0441\\u0432\\u043e\\u0438\\u0445 \\u0432\\u0437\\u0433\\u043b\\u044f\\u0434\\u043e\\u0432... \\u041d\\u043e \\u0441\\u044e\\u0434\\u0430 \\u044f \\u043f\\u043e\\u0436\\u0430\\u043b\\u0443\\u0439 \\u043b\\u0435\\u0437\\u0442\\u044c \\u043d\\u0435 \\u0431\\u0443\\u0434\\u0443\\n\\n\\n\\u041b\\u0430\\u0434\\u043d\\u043e, \\u043f\\u0438\\u0441\\u0430\\u0442\\u044c \\u043e\\u0431 \\u044d\\u0442\\u043e\\u043c \\u0441\\u0435\\u0440\\u0438\\u0430\\u043b\\u0435 \\u0438 \\u0440\\u0430\\u0437\\u0431\\u0438\\u0440\\u0430\\u0442\\u044c \\u0435\\u0433\\u043e \\u0441\\u0438\\u043b\\u044c\\u043d\\u044b\\u0435 \\u0441\\u0442\\u043e\\u0440\\u043e\\u043d\\u044b \\u043c\\u043e\\u0436\\u043d\\u043e \\u043e\\u0447\\u0435\\u043d\\u044c \\u0438 \\u043e\\u0447\\u0435\\u043d\\u044c \\u0434\\u043e\\u043b\\u0433\\u043e, \\u0437\\u0430 \\u043c\\u0435\\u043d\\u044f \\u044d\\u0442\\u043e \\u0443\\u0436\\u0435 \\u0441\\u0434\\u0435\\u043b\\u0430\\u043b\\u0438 \\u0442\\u044b\\u0441\\u044f\\u0447\\u0438 \\u043b\\u044e\\u0434\\u0435\\u0439. \\u042f \\u043f\\u0440\\u043e\\u0441\\u0442\\u043e \\u0445\\u043e\\u0447\\u0443 \\u0441\\u043a\\u0430\\u0437\\u0430\\u0442\\u044c \\u0432\\u0430\\u043c, \\u0447\\u0442\\u043e \\u0435\\u0441\\u043b\\u0438 \\u0432\\u044b \\u0435\\u0449\\u0451 \\u043d\\u0435 \\u043f\\u043e\\u0441\\u043c\\u043e\\u0442\\u0440\\u0435\\u043b\\u0438 \\u044d\\u0442\\u043e\\u0442 \\u0441\\u0435\\u0440\\u0438\\u0430\\u043b, \\u0442\\u043e \\u043d\\u0435 \\u0441\\u043f\\u0435\\u0448\\u0438\\u0442\\u0435. \\u0421\\u043c\\u043e\\u0442\\u0440\\u0438\\u0442\\u0435 \\u043d\\u0435 \\u0432 \\u0437\\u0430\\u043f\\u043e\\u0439, \\u0433\\u043e\\u0440\\u0430\\u0437\\u0434\\u043e \\u0438\\u043d\\u0442\\u0435\\u0440\\u0435\\u0441\\u043d\\u0435\\u0435 (\\u043d\\u043e \\u0442\\u0440\\u0443\\u0434\\u043d\\u0435\\u0435) \\u0441\\u043c\\u043e\\u0442\\u0440\\u0435\\u0442\\u044c, \\u043d\\u0430\\u043f\\u0440\\u0438\\u043c\\u0435\\u0440, \\u043f\\u043e \\u043e\\u0434\\u043d\\u043e\\u0439 \\u0441\\u0435\\u0440\\u0438\\u0438 \\u0432 \\u0434\\u0435\\u043d\\u044c, \\u0447\\u0442\\u043e\\u0431\\u044b \\u044d\\u0442\\u043e \\u0431\\u044b\\u043b\\u043e \\u043d\\u0435\\u043a\\u0438\\u043c \\u0440\\u0435\\u043b\\u0430\\u043a\\u0441\\u043e\\u043c \\u0438 \\u043d\\u0430\\u0434\\u043e \\u0440\\u0430\\u0441\\u0442\\u044f\\u0433\\u0438\\u0432\\u0430\\u0442\\u044c \\u0443\\u0434\\u043e\\u0432\\u043e\\u043b\\u044c\\u0441\\u0442\\u0432\\u0438\\u0435, \\u0432\\u043e\\u0442 \\u044f \\u043f\\u0440\\u043e \\u0447\\u0442\\u043e.\\n\\n\\n\\u0421\\u0435\\u0440\\u0438\\u0430\\u043b \\u0443\\u043d\\u0438\\u043a\\u0430\\u043b\\u0435\\u043d, \\u043d\\u0435 \\u0438\\u043c\\u0435\\u0435\\u0442 \\u0430\\u043d\\u0430\\u043b\\u043e\\u0433\\u043e\\u0432 \\u0438 \\u0432\\u0440\\u044f\\u0434 \\u043b\\u0438 \\u0438\\u043c\\u0438 \\u043e\\u0431\\u0437\\u0430\\u0432\\u0435\\u0434\\u0451\\u0442\\u0441\\u044f. \\u0415\\u0434\\u0438\\u043d\\u0441\\u0442\\u0432\\u0435\\u043d\\u043d\\u043e\\u0435, \\u0447\\u0442\\u043e \\u043e\\u043c\\u0440\\u0430\\u0447\\u0430\\u0435\\u0442, \\u044d\\u0442\\u043e \\u0442\\u043e, \\u0447\\u0442\\u043e \\u0440\\u0430\\u043d\\u043e \\u0438\\u043b\\u0438 \\u043f\\u043e\\u0437\\u0434\\u043d\\u043e \\u044d\\u0442\\u043e \\u0432\\u043e\\u043b\\u0448\\u0435\\u0431\\u0441\\u0442\\u0432\\u043e \\u0437\\u0430\\u043a\\u043e\\u043d\\u0447\\u0438\\u0442\\u0441\\u044f (8 \\u0441\\u0435\\u0437\\u043e\\u043d \\u0441\\u043a\\u043e\\u0440\\u0435\\u0435 \\u0432\\u0441\\u0435\\u0433\\u043e \\u0441\\u0442\\u0430\\u043d\\u0435\\u0442 \\u043f\\u043e\\u0441\\u043b\\u0435\\u0434\\u043d\\u0438\\u043c). \\u0412\\u044b \\u0441\\u043a\\u0430\\u0436\\u0438\\u0442\\u0435: '\\u0430 \\u043a\\u0430\\u043a \\u0436\\u0435 \\u0441\\u043f\\u0438\\u043d-\\u043e\\u0444\\u0444\\u044b?' \\u041d\\u043e \\u044f \\u043e\\u0447\\u0435\\u043d\\u044c \\u0441\\u043e\\u043c\\u043d\\u0435\\u0432\\u0430\\u044e\\u0441\\u044c, \\u0447\\u0442\\u043e \\u043e\\u043d\\u0438 \\u0431\\u0443\\u0434\\u0443\\u0442 \\u0438\\u043c\\u0435\\u0442\\u044c \\u0445\\u043e\\u0442\\u044f \\u0431\\u044b \\u0431\\u043b\\u0438\\u0437\\u043a\\u043e \\u0442\\u0443 \\u043b\\u0438\\u043d\\u0438\\u044e \\u043f\\u043e\\u0432\\u0435\\u0441\\u0442\\u0432\\u043e\\u0432\\u0430\\u043d\\u0438\\u044f \\u0438 \\u0442\\u043e\\u0442 \\u0448\\u0430\\u0440\\u043c.  \\u042d\\u0442\\u043e \\u043a\\u0430\\u043a '\\u0424\\u0430\\u043d\\u0442\\u0430\\u0441\\u0442\\u0438\\u0447\\u0435\\u0441\\u043a\\u0438\\u0435 \\u0442\\u0432\\u0430\\u0440\\u0438 \\u0438 \\u0433\\u0434\\u0435 \\u043e\\u043d\\u0438 \\u043e\\u0431\\u0438\\u0442\\u0430\\u044e\\u0442' - \\u0432\\u0440\\u043e\\u0434\\u0435 \\u0442\\u0430 \\u0436\\u0435 \\u0432\\u0441\\u0435\\u043b\\u0435\\u043d\\u043d\\u0430\\u044f, \\u043d\\u043e \\u043e\\u0449\\u0443\\u0449\\u0435\\u043d\\u0438\\u044f \\u0434\\u0430\\u0436\\u0435 \\u0431\\u043b\\u0438\\u0437\\u043a\\u043e \\u043d\\u0435 \\u0442\\u0435, \\u043a\\u0430\\u043a \\u043e\\u0442 \\u043f\\u0440\\u043e\\u0441\\u043c\\u043e\\u0442\\u0440\\u0430 \\u0413\\u0430\\u0440\\u0440\\u0438 \\u041f\\u043e\\u0442\\u0442\\u0435\\u0440\\u0430.\\n\\n\\n\\u0412 \\u043e\\u0431\\u0449\\u0435\\u043c, \\u0432\\u0441\\u0435, \\u043a\\u0442\\u043e \\u043d\\u0435 \\u0441\\u043c\\u043e\\u0442\\u0440\\u0435\\u043b - \\u043f\\u043e\\u0441\\u043c\\u043e\\u0442\\u0440\\u0438\\u0442\\u0435, \\u043d\\u0435 \\u043f\\u043e\\u0436\\u0430\\u043b\\u0435\\u0435\\u0442\\u0435 \\u043d\\u0438 \\u043c\\u0438\\u043d\\u0443\\u0442\\u044b \\u0438, \\u043a\\u043e\\u043d\\u0435\\u0447\\u043d\\u043e, \\u0438\\u0437\\u0431\\u0435\\u0433\\u0430\\u0439\\u0442\\u0435 \\u0441\\u043f\\u043e\\u0439\\u043b\\u0435\\u0440\\u043e\\u0432, \\u043f\\u043e\\u0442\\u043e\\u043c\\u0443 \\u0447\\u0442\\u043e \\u0443\\u0437\\u043d\\u0430\\u0432 \\u0434\\u0430\\u0436\\u0435 \\u043e\\u0434\\u043d\\u0443 \\u0434\\u0435\\u0442\\u0430\\u043b\\u044c \\u0438\\u0437 6 \\u0438\\u043b\\u0438 7 \\u0441\\u0435\\u0437\\u043e\\u043d\\u0430, \\u0443\\u0436\\u0435 \\u0431\\u0443\\u0434\\u0435\\u0442 \\u043d\\u0435 \\u0442\\u0430\\u043a \\u0438\\u043d\\u0442\\u0435\\u0440\\u0435\\u0441\\u043d\\u043e. \\u0417\\u0434\\u0435\\u0441\\u044c \\u0432\\u0441\\u0451 \\u0432\\u0437\\u0430\\u0438\\u043c\\u043e\\u0441\\u0432\\u044f\\u0437\\u0430\\u043d\\u043e \\u0438 \\u0442\\u0440\\u0435\\u0431\\u0443\\u0435\\u0442 \\u0442\\u043e\\u0433\\u043e, \\u0447\\u0442\\u043e\\u0431\\u044b \\u0432\\u044b \\u043e\\u0442\\u0434\\u0430\\u043b\\u0438\\u0441\\u044c \\u0441\\u0435\\u0440\\u0438\\u0430\\u043b\\u0443. \\u0415\\u0441\\u043b\\u0438 \\u0432\\u044b \\u0434\\u043e\\u043c\\u043e\\u0445\\u043e\\u0437\\u044f\\u0439\\u043a\\u0430 \\u0438 \\u0445\\u043e\\u0442\\u0438\\u0442\\u0435, \\u0447\\u0442\\u043e\\u0431\\u044b \\u043f\\u043e\\u043a\\u0430 \\u0432\\u044b \\u0433\\u043b\\u0430\\u0434\\u0438\\u0442\\u0435 \\u0432\\u0435\\u0449\\u0438 \\u0438\\u043b\\u0438 \\u0433\\u043e\\u0442\\u043e\\u0432\\u0438\\u0442\\u0435 \\u0435\\u0434\\u0443 \\u043d\\u0430 \\u0444\\u043e\\u043d\\u0435 \\u0447\\u0442\\u043e-\\u0442\\u043e \\u043c\\u0435\\u043b\\u044c\\u043a\\u0430\\u043b\\u043e, \\u0442\\u043e \\u044d\\u0442\\u043e\\u0442 \\u0441\\u0435\\u0440\\u0438\\u0430\\u043b \\u044f\\u0432\\u043d\\u043e \\u043c\\u0438\\u043c\\u043e.\\n\\n\\n9,5 \\u0438\\u0437 10\",\n          \"\\u0424\\u0438\\u043b\\u044c\\u043c \\u00ab\\u0418\\u0433\\u0440\\u044b \\u0440\\u0430\\u0437\\u0443\\u043c\\u0430\\u00bb \\u0438\\u043b\\u0438\\u00a0\\u00ab\\u041f\\u0440\\u0435\\u043a\\u0440\\u0430\\u0441\\u043d\\u044b\\u0439 \\u0440\\u0430\\u0437\\u0443\\u043c\\u00bb (\\u0432 \\u043e\\u0440\\u0438\\u0433\\u0438\\u043d\\u0430\\u043b\\u0435 \\u00abA Beautiful Mind\\u00bb) \\u0441\\u043e\\u0437\\u0434\\u0430\\u043d \\u043f\\u043e\\u00a0\\u0431\\u0438\\u043e\\u0433\\u0440\\u0430\\u0444\\u0438\\u0447\\u0435\\u0441\\u043a\\u043e\\u0439 \\u043a\\u043d\\u0438\\u0433\\u0435 \\u0421. \\u041d\\u0430\\u0437\\u0430\\u0440, \\u0440\\u0430\\u0441\\u0441\\u043a\\u0430\\u0437\\u044b\\u0432\\u0430\\u044e\\u0449\\u0435\\u0439 \\u043e\\u00a0\\u0436\\u0438\\u0437\\u043d\\u0438 \\u043b\\u0430\\u0443\\u0440\\u0435\\u0430\\u0442\\u0430 \\u041d\\u043e\\u0431\\u0435\\u043b\\u0435\\u0432\\u0441\\u043a\\u043e\\u0439 \\u043f\\u0440\\u0435\\u043c\\u0438\\u0438 \\u043f\\u043e\\u00a0\\u044d\\u043a\\u043e\\u043d\\u043e\\u043c\\u0438\\u043a\\u0435 \\u0414\\u0436\\u043e\\u043d\\u0430 \\u0424\\u043e\\u0440\\u0431\\u0441\\u0430 \\u041d\\u044d\\u0448\\u0430. \\u041c\\u0430\\u0442\\u0435\\u043c\\u0430\\u0442\\u0438\\u0447\\u0435\\u0441\\u043a\\u0438\\u0439 \\u0433\\u0435\\u043d\\u0438\\u0439 \\u0441\\u0434\\u0435\\u043b\\u0430\\u043b\\u0430 \\u043c\\u0430\\u0441\\u0448\\u0442\\u0430\\u0431\\u043d\\u044b\\u0435 \\u043e\\u0442\\u043a\\u0440\\u044b\\u0442\\u0438\\u044f \\u0432\\u00a0\\u0442\\u0435\\u043e\\u0440\\u0438\\u0438 \\u0438\\u0433\\u0440, \\u043a\\u043e\\u0442\\u043e\\u0440\\u044b\\u0435 \\u043f\\u0435\\u0440\\u0435\\u0432\\u0435\\u0440\\u043d\\u0443\\u043b\\u0438 \\u044d\\u0442\\u043e\\u0442 \\u0440\\u0430\\u0437\\u0434\\u0435\\u043b \\u043c\\u0430\\u0442\\u0435\\u043c\\u0430\\u0442\\u0438\\u043a\\u0438.\\n\\n\\n\\u0418\\u0441\\u0442\\u043e\\u0440\\u0438\\u044f \\u043d\\u0430\\u0447\\u0438\\u043d\\u0430\\u0435\\u0442\\u0441\\u044f \\u0441\\u00a0\\u044e\\u043d\\u044b\\u0445 \\u043b\\u0435\\u0442\\u00a0\\u043c\\u043e\\u043b\\u043e\\u0434\\u043e\\u0433\\u043e \\u0433\\u0435\\u043d\\u0438\\u044f \\u0414\\u0436\\u043e\\u043d\\u0430 \\u041d\\u044d\\u0448\\u0430 (\\u0420\\u0430\\u0441\\u0441\\u0435\\u043b \\u041a\\u0440\\u043e\\u0443), \\u0441\\u044e\\u0436\\u0435\\u0442 \\u0440\\u0430\\u0437\\u0432\\u043e\\u0440\\u0430\\u0447\\u0438\\u0432\\u0430\\u0435\\u0442 \\u0432\\u0441\\u0435\\u00a0\\u0441\\u0442\\u0430\\u0434\\u0438\\u0438 \\u0440\\u0430\\u0437\\u0432\\u0438\\u0442\\u0438\\u044f \\u0438\\u00a0\\u0432\\u0437\\u0440\\u043e\\u0441\\u043b\\u0435\\u043d\\u0438\\u044f \\u0433\\u0435\\u0440\\u043e\\u044f. \\u0421\\u043e\\u00a0\\u0441\\u0442\\u0443\\u0434\\u0435\\u043d\\u0447\\u0435\\u0441\\u043a\\u0438\\u0445 \\u043b\\u0435\\u0442\\u00a0\\u043e\\u043d \\u043d\\u0435\\u00a0\\u0432\\u0441\\u0442\\u0443\\u043f\\u0430\\u0435\\u0442 \\u0432\\u043e\\u00a0\\u0432\\u0437\\u0430\\u0438\\u043c\\u043e\\u043e\\u0442\\u043d\\u043e\\u0448\\u0435\\u043d\\u0438\\u044f \\u0441\\u00a0\\u043e\\u043a\\u0440\\u0443\\u0436\\u0430\\u044e\\u0449\\u0438\\u043c \\u043e\\u0431\\u0449\\u0435\\u0441\\u0442\\u0432\\u043e\\u043c \\u0438\\u00a0\\u0432\\u0441\\u0435\\u0446\\u0435\\u043b\\u043e \\u043f\\u043e\\u0441\\u0432\\u044f\\u0449\\u0430\\u0435\\u0442 \\u0441\\u0435\\u0431\\u044f \\u0438\\u0441\\u0441\\u043b\\u0435\\u0434\\u043e\\u0432\\u0430\\u043d\\u0438\\u044f\\u043c. \\u0412\\u00a0\\u044d\\u0442\\u043e\\u0442 \\u043f\\u0435\\u0440\\u0438\\u043e\\u0434 \\u0443\\u00a0\\u043d\\u0435\\u0433\\u043e \\u043d\\u0430\\u0447\\u0438\\u043d\\u0430\\u044e\\u0442 \\u043f\\u0440\\u043e\\u044f\\u0432\\u043b\\u044f\\u0442\\u044c\\u0441\\u044f \\u0437\\u0430\\u0447\\u0430\\u0442\\u043a\\u0438 \\u043f\\u0430\\u0440\\u0430\\u043d\\u043e\\u0438\\u0434\\u043d\\u043e\\u0439 \\u0448\\u0438\\u0437\\u043e\\u0444\\u0440\\u0435\\u043d\\u0438\\u0438, \\u0441\\u043e\\u043f\\u0440\\u043e\\u0432\\u043e\\u0436\\u0434\\u0430\\u044e\\u0449\\u0438\\u0435\\u0441\\u044f \\u0433\\u0430\\u043b\\u043b\\u044e\\u0446\\u0438\\u043d\\u0430\\u0446\\u0438\\u044f\\u043c\\u0438. \\u041a\\u043e\\u0433\\u0434\\u0430 \\u041d\\u044d\\u0448\\u00a0\\u0432\\u0441\\u0451 \\u0431\\u043e\\u043b\\u044c\\u0448\\u0435 \\u043f\\u043e\\u0433\\u0440\\u0443\\u0436\\u0430\\u0435\\u0442\\u0441\\u044f \\u0432\\u00a0\\u0440\\u0430\\u0431\\u043e\\u0442\\u0443, \\u0435\\u0433\\u043e\\u00a0\\u043f\\u0441\\u0438\\u0445\\u0438\\u0447\\u0435\\u0441\\u043a\\u0430\\u044f \\u0431\\u043e\\u043b\\u0435\\u0437\\u043d\\u044c \\u043f\\u0440\\u043e\\u0433\\u0440\\u0435\\u0441\\u0441\\u0438\\u0440\\u0443\\u0435\\u0442, \\u0447\\u0442\\u043e\\u00a0\\u043d\\u0430\\u043d\\u043e\\u0441\\u0438\\u0442 \\u0443\\u0433\\u0440\\u043e\\u0437\\u0443 \\u0435\\u0433\\u043e\\u00a0\\u043a\\u0430\\u0440\\u044c\\u0435\\u0440\\u0435 \\u0438\\u00a0\\u043e\\u0442\\u043d\\u043e\\u0448\\u0435\\u043d\\u0438\\u044f\\u043c \\u0441\\u00a0\\u0441\\u0443\\u043f\\u0440\\u0443\\u0433\\u043e\\u0439.\\n\\n\\u00abA Beautiful Mind\\u00bb \\u043f\\u043e\\u0437\\u0432\\u043e\\u043b\\u044f\\u0435\\u0442 \\u00ab\\u0437\\u0430\\u0433\\u043b\\u044f\\u043d\\u0443\\u0442\\u044c\\u00bb \\u0432\\u00a0\\u0433\\u043e\\u043b\\u043e\\u0432\\u0443 \\u043f\\u0435\\u0440\\u0441\\u043e\\u043d\\u0430\\u0436\\u0430, \\u043f\\u043e\\u0441\\u043a\\u043e\\u043b\\u044c\\u043a\\u0443 \\u0441\\u044e\\u0436\\u0435\\u0442 \\u0434\\u043e\\u00a0\\u043e\\u043f\\u0440\\u0435\\u0434\\u0435\\u043b\\u0435\\u043d\\u043d\\u043e\\u0433\\u043e \\u043c\\u043e\\u043c\\u0435\\u043d\\u0442\\u0430 \\u043d\\u0435\\u00a0\\u0434\\u0430\\u0435\\u0442 \\u0437\\u0440\\u0438\\u0442\\u0435\\u043b\\u044f\\u043c \\u043f\\u043e\\u043d\\u044f\\u0442\\u044c, \\u0447\\u0442\\u043e\\u00a0\\u043e\\u043d\\u0438 \\u043d\\u0430\\u0431\\u043b\\u044e\\u0434\\u0430\\u044e\\u0442 \\u0437\\u0430\\u00a0\\u0432\\u044b\\u043c\\u044b\\u0448\\u043b\\u0435\\u043d\\u043d\\u043e\\u0439 \\u0440\\u0435\\u0430\\u043b\\u044c\\u043d\\u043e\\u0441\\u0442\\u044c\\u044e. \\u0421\\u043e\\u0437\\u0434\\u0430\\u0442\\u0435\\u043b\\u0438 \\u0443\\u0442\\u0432\\u0435\\u0440\\u0436\\u0434\\u0430\\u044e\\u0442, \\u0447\\u0442\\u043e\\u00a0\\u044d\\u0442\\u043e \\u0431\\u044b\\u043b\\u043e \\u0441\\u0434\\u0435\\u043b\\u0430\\u043d\\u043e \\u0434\\u043b\\u044f\\u00a0\\u0442\\u043e\\u0433\\u043e, \\u0447\\u0442\\u043e\\u0431\\u044b \\u0437\\u0440\\u0438\\u0442\\u0435\\u043b\\u0438 \\u043c\\u043e\\u0433\\u043b\\u0438 \\u043f\\u043e\\u0447\\u0443\\u0432\\u0441\\u0442\\u0432\\u043e\\u0432\\u0430\\u0442\\u044c \\u0441\\u0435\\u0431\\u044f \\u0442\\u0430\\u043a\\u00a0\\u0436\\u0435, \\u043a\\u0430\\u043a\\u00a0\\u041d\\u044d\\u0448, \\u043f\\u043e\\u0431\\u044b\\u0432\\u0430\\u0442\\u044c \\u0432\\u00a0\\u0435\\u0433\\u043e \\u0448\\u043a\\u0443\\u0440\\u0435. \\u041f\\u043e\\u0436\\u0430\\u043b\\u0443\\u0439, \\u044d\\u0442\\u043e\\u00a0\\u0433\\u043b\\u0430\\u0432\\u043d\\u0430\\u044f \\u0440\\u043e\\u043b\\u044c \\u0432\\u00a0\\u043a\\u0430\\u0440\\u044c\\u0435\\u0440\\u0435 \\u0420\\u0430\\u0441\\u0441\\u0435\\u043b\\u0430 \\u041a\\u0440\\u043e\\u0443, \\u043d\\u0430\\u00a0\\u044d\\u043a\\u0440\\u0430\\u043d\\u0435 \\u043e\\u043d\\u00a0\\u0432\\u044b\\u0433\\u043b\\u044f\\u0434\\u0438\\u0442 \\u0431\\u043e\\u043b\\u0435\\u0435 \\u0447\\u0435\\u043c\\u00a0\\u0443\\u0431\\u0435\\u0434\\u0438\\u0442\\u0435\\u043b\\u044c\\u043d\\u043e, \\u043d\\u0435\\u00a0\\u0441\\u043c\\u043e\\u0442\\u0440\\u044f \\u043d\\u0430\\u00a0\\u0441\\u0442\\u043e\\u044f\\u0432\\u0448\\u0443\\u044e \\u043f\\u0435\\u0440\\u0435\\u0434 \\u043d\\u0438\\u043c\\u00a0\\u0441\\u043b\\u043e\\u0436\\u043d\\u0443\\u044e \\u0430\\u043a\\u0442\\u0451\\u0440\\u0441\\u043a\\u0443\\u044e \\u0437\\u0430\\u0434\\u0430\\u0447\\u0443\\u00a0\\u2014\\u00a0\\u0438\\u0437\\u043e\\u0431\\u0440\\u0430\\u0437\\u0438\\u0442\\u044c \\u0438\\u0437\\u0432\\u0435\\u0441\\u0442\\u043d\\u043e\\u0433\\u043e \\u0432\\u0441\\u0435\\u043c\\u0443 \\u043c\\u0438\\u0440\\u0443 \\u0443\\u0447\\u0451\\u043d\\u043e\\u0433\\u043e, \\u0434\\u0430\\u00a0\\u0435\\u0449\\u0451 \\u0438\\u00a0\\u0441 \\u043f\\u0441\\u0438\\u0445\\u0438\\u0447\\u0435\\u0441\\u043a\\u0438\\u043c\\u0438 \\u043e\\u0442\\u043a\\u043b\\u043e\\u043d\\u0435\\u043d\\u0438\\u044f\\u043c\\u0438. \\n\\n\\u0421\\u0442\\u043e\\u043b\\u043a\\u043d\\u043e\\u0432\\u0435\\u043d\\u0438\\u0435 \\u0441\\u00a0\\u0434\\u0435\\u0439\\u0441\\u0442\\u0432\\u0438\\u0442\\u0435\\u043b\\u044c\\u043d\\u043e\\u0441\\u0442\\u044c\\u044e \\u0434\\u0435\\u0437\\u043e\\u0440\\u0438\\u0435\\u043d\\u0442\\u0438\\u0440\\u0443\\u0435\\u0442 \\u0414\\u0436\\u043e\\u043d\\u0430 \\u041d\\u044d\\u0448\\u0430, \\u043d\\u043e\\u00a0\\u043e\\u043d \\u043e\\u0434\\u0435\\u0440\\u0436\\u0438\\u0432\\u0430\\u0435\\u0442 \\u043f\\u043e\\u0431\\u0435\\u0434\\u0443 \\u043d\\u0430\\u0434\\u00a0\\u0440\\u0430\\u0437\\u0443\\u043c\\u043e\\u043c \\u0438\\u00a0\\u0443\\u0441\\u043c\\u0438\\u0440\\u044f\\u0435\\u0442 \\u0441\\u0432\\u043e\\u0438\\u0445 \\u00ab\\u0434\\u0435\\u043c\\u043e\\u043d\\u043e\\u0432\\u00bb, \\u043d\\u0430\\u0441\\u043a\\u043e\\u043b\\u044c\\u043a\\u043e \\u044d\\u0442\\u043e\\u00a0\\u0432\\u043e\\u0437\\u043c\\u043e\\u0436\\u043d\\u043e. \\u0424\\u0438\\u043b\\u044c\\u043c \\u043f\\u0440\\u043e\\u044f\\u0432\\u043b\\u044f\\u0435\\u0442 \\u043f\\u0440\\u043e\\u043d\\u0438\\u0446\\u0430\\u0442\\u0435\\u043b\\u044c\\u043d\\u044b\\u0439 \\u0432\\u0437\\u0433\\u043b\\u044f\\u0434 \\u043d\\u0430\\u00a0\\u043f\\u0441\\u0438\\u0445\\u0438\\u0447\\u0435\\u0441\\u043a\\u043e\\u0435 \\u0437\\u0430\\u0431\\u043e\\u043b\\u0435\\u0432\\u0430\\u043d\\u0438\\u0435.\"\n        ],\n        \"semantic_type\": \"\",\n        \"description\": \"\"\n      }\n    },\n    {\n      \"column\": \"translation\",\n      \"properties\": {\n        \"dtype\": \"string\",\n        \"num_unique_values\": 5,\n        \"samples\": [\n          \"I started my acquaintance with the series only at the end of all 8 seasons, knowing all the main plot twists and even the ending.\\u00a0Nevertheless, the viewing experience did not deteriorate in the least.\\u00a0Having information about the fate of the characters, you begin to more thoughtfully follow what is happening on the screen, you analyze the behavior of the characters in order to understand why, in the end, this or that event happened.\\u00a0Thanks to this, I was able to fully appreciate the beauty of this series - the characters and their interaction with each other.\\n\\n\\nAll the main characters are very contradictory, but this is exactly what they catch, perceived as ordinary people, which gives realism to what is happening.\\u00a0Their development from season to season deserves special attention.\\u00a0In Game of Thrones, there is no clear division between Good and Evil.\\u00a0All the actions of the heroes have certain motives that are good for some, but bad for others.\\u00a0This reveals the basis of the series - the relationship between people, which includes not only politics, but also ordinary interactions in the family, in the circle of strangers and friends.\\u00a0The themes of friendship, betrayal and loyalty, pride and honor, and the unity of people are touched upon.\\n\\n\\nThe political side of the series is very interesting from a psychological point of view.\\u00a0Many characters can learn the art of diplomacy, the ability to listen and \\\"read\\\" other people.\\u00a0Game of Thrones helps to assess the real value and power of information, to use power competently, to take into account the opinion of subordinates and act not only for their own selfish purposes.\\n\\nPower is where the universal faith places it.\\u00a0It's a trick, a shadow on the wall.\\u00a0And sometimes a very small person casts a very big shadow.\\u00a0\\u00a9 Lord Varys\\n\\n\\nUnfortunately, the series has a number of disadvantages that have been actively manifested since season 5.\\u00a0The actions of the heroes become stupid and unjustified, the narrative deteriorates noticeably, more and more filler episodes appear.\\u00a0In 7 and 8 seasons, for not understandable reasons, the behavior patterns of some of the characters change dramatically.\\u00a0There are obvious drains of characters, only a few of them receive a dignified death.\\n\\n\\nNevertheless, I still want to look at what is happening.\\u00a0The main intrigue persists until the very last episode of the final season, the result of which, in my opinion, is justified and logical, given the behavior of the characters in the course of the previous episodes.\\n\\nKnow your strengths, use them wisely, and one person can be worth ten thousand.\\u00a0\\u00a9 Petyr Baelish\\n\\n\\n8 of 10\",\n          \"Surprisingly, I only got acquainted with this series when almost all episodes of the 7th season had already been published.\\u00a0I heard about this series from absolutely all friends who were of all ages.\\u00a0But honestly, sincerely I did not understand why Game of Thrones became a household name, some kind of cult, perhaps, which many worshiped.\\u00a0And I'm not kidding, my friend was such a fanatic that he watched the series 3 times, had a bunch of clothes on the topic of the series and was subscribed to all the resources where the series was mentioned at least in passing.\\u00a0And he nevertheless persuaded me to watch at least 1 episode, saying that this would happen instantly, and that most likely he would not see me for a week, I naturally laughed and did not take it seriously, thinking that 1 episode, whatever it is was not, will not tighten me ... yes, how wrong I was then ... But, first things first!\\n\\n\\nAs soon as I started watching this adaptation, I completely immersed myself in the world of the seven kingdoms.\\u00a0The picture is mesmerizing, takes you somewhere far away, I sat down to watch at seven in the evening, but the clock is already 5 in the morning, and I don't want to stop at all.\\u00a0I watched the first season more on the machine, I wanted to know about all the characters, about everything.\\u00a0But then you realize that this fictional world is so huge that the first season is just a trailer.\\u00a0Here it ends.\\u00a0And here I already understand why the series is so popular, precisely popular, because I personally recognized the masterpiece of the series only from the second season.\\u00a0Although the first one was gorgeous, I understood it, but I looked at it so quickly and automatically that, without hesitation and without chewing, so to speak, I immediately set about the second.\\n\\n\\nThe bottom line is that people are not used to such a scale, and they were immediately struck by it.\\u00a0The main thing in the series is its elaboration in all plans.\\u00a0This is the case when it is difficult to imagine what could be filmed better.\\u00a0Everything is so harmonious and in its place.\\n\\n\\nIf we talk about actors, then almost all of them have gained worldwide fame thanks to the series.\\u00a0Even one season was enough for them to start receiving various offers.\\u00a0I don\\u2019t want to talk about any specific actors, because even minor roles were played here, as if they were the main ones.\\u00a0I will only say about who interested me more than anyone else and whose acting skills in this project just broke through the clouds.\\u00a0This is, of course, Peter Dinklage.\\u00a0His hero is the most interesting to watch.\\u00a0Oh, what can I say, for his sake a pancake was unleashed, isn't that enough.\\u00a0He is smart, cunning, witty, well-read, he can negotiate with anyone, seemingly go out and drink most of the series, but now he comes up with an excellent strategic plan for the defense of the city.\\u00a0In general, the hero is multifaceted and unique.\\n\\n\\nHonestly, if not for one detail, then the most interesting for me would be another controversial character, this is Petyr Baelish performed by Aidan Gillen, he is more cunning and smarter than all the heroes put together and all the more interesting.\\u00a0He wants to get the throne and does not see any obstacles, then he manages the treasury and has his own brothel, then he already has his own castle, now the army, and it is obvious that the throne is not far away.\\u00a0I will not write what will become of him, but I will only say that this is the most ridiculous and offensive, but quite expected turn.\\u00a0Why did a charming dwarf take his place?\\u00a0- Everything is simple!\\u00a0This screen time, we are simply not allowed to admire his game and manipulation of others.\\u00a0There is so little of it in the series that sometimes you forget about its existence at all.\\n\\n\\nAnd the series is so closely related to religion and there are scenes after which you may well think about a serious revision of your views ... But I probably won't go here.\\n\\n\\nOkay, you can write about this series and analyze its strengths for a very, very long time, thousands of people have already done it for me.\\u00a0I just want to tell you that if you haven't watched this show yet, then take your time.\\u00a0Look not into a binge, it is much more interesting (but more difficult) to watch, for example, one episode a day, so that it is a kind of relaxation and it is necessary to stretch the pleasure, that's what I mean.\\n\\n\\nThe series is unique, has no analogues and is unlikely to acquire one.\\u00a0The only thing that darkens is that sooner or later this magic will end (season 8 will most likely be the last).\\u00a0You say, 'what about spin-offs?'\\u00a0But I very much doubt that they will have even close that narrative line and that charm.\\u00a0It's like 'Fantastic Beasts and Where to Find Them' - like the same universe, but the feeling is not even close to watching Harry Potter.\\n\\n\\nIn general, everyone who has not watched - look, you will not regret a minute and, of course, avoid spoilers, because learning even one detail from season 6 or 7 will no longer be so interesting.\\u00a0Everything here is interconnected and requires you to surrender yourself to the series.\\u00a0If you are a housewife and want something to flicker in the background while you iron things or cook food, then this series is clearly by no means.\\n\\n\\n9.5 out of 10\",\n          \"The film \\\"A Beautiful Mind\\\" or \\\"Beautiful Mind\\\" (originally \\\"A Beautiful Mind\\\") is based on the biographical book by S. Nazar, which tells about the life of the Nobel Prize winner in economics John Forbes Nash.\\u00a0The mathematical genius made massive discoveries in game theory that turned this branch of mathematics upside down.\\n\\n\\nThe story begins with the early years of the young genius John Nash (Russell Crowe), the plot unfolds all stages of the development and maturation of the hero.\\u00a0Since his student years, he does not enter into relationships with the surrounding society and devotes himself entirely to research.\\u00a0During this period, the beginnings of paranoid schizophrenia begin to appear, accompanied by hallucinations.\\u00a0As Nash becomes more immersed in work, his mental illness progresses, which threatens his career and relationship with his wife.\\n\\n\\\"A Beautiful Mind\\\" allows you to \\\"look\\\" into the head of the character, as the plot until a certain point does not let the audience understand that they are observing a fictional reality.\\u00a0The creators argue that this was done so that viewers could feel like Nash, to be in his shoes.\\u00a0Perhaps this is the main role in the career of Russell Crowe, on the screen he looks more than convincing, despite the difficult acting task before him - to portray a world-famous scientist, and even with mental disabilities.\\n\\nFaced with reality disorients John Nash, but he triumphs over reason and pacifies his \\\"demons\\\" as much as possible.\\u00a0The film takes an insightful look at mental illness.\"\n        ],\n        \"semantic_type\": \"\",\n        \"description\": \"\"\n      }\n    },\n    {\n      \"column\": \"type\",\n      \"properties\": {\n        \"dtype\": \"string\",\n        \"num_unique_values\": 3,\n        \"samples\": [\n          \"neutral\",\n          \"good\",\n          \"bad\"\n        ],\n        \"semantic_type\": \"\",\n        \"description\": \"\"\n      }\n    }\n  ]\n}"
            }
          },
          "metadata": {},
          "execution_count": 60
        }
      ]
    },
    {
      "cell_type": "code",
      "source": [
        "def test_model(input_data):\n",
        "    loaded_model = spacy.load(\"model_artifacts\")\n",
        "    parsed_text = loaded_model(input_data)\n",
        "    if parsed_text.cats[\"pos\"] > parsed_text.cats[\"neg\"]:\n",
        "        prediction = \"good\"\n",
        "        score = parsed_text.cats[\"pos\"]\n",
        "    else:\n",
        "        prediction = \"bad\"\n",
        "        score = parsed_text.cats[\"neg\"]\n",
        "    return prediction"
      ],
      "metadata": {
        "id": "6A93g0KUCaTA"
      },
      "execution_count": 61,
      "outputs": []
    },
    {
      "cell_type": "code",
      "source": [
        "df['pred'] = pred\n",
        "yy = df.iloc[:1999]\n",
        "y_true = yy['type']\n",
        "y_pred = yy['pred']\n",
        "\n",
        "y_true[y_true == 'good'] = 1\n",
        "y_true[y_true == 'bad'] = 0\n",
        "y_pred[y_pred == 'good'] = 1\n",
        "y_pred[y_pred == 'bad'] = 0\n",
        "\n",
        "accuracy = sklearn.metrics.accuracy_score(y_true.astype(int), y_pred.astype(int))\n",
        "f_score = sklearn.metrics.f1_score(y_true.astype(int), y_pred.astype(int))\n",
        "\n",
        "print(f\"Метрика accuracy составила: {accuracy:.3f}.\")\n",
        "print(f\"F1-мера модели равна {f_score:.3f}.\")"
      ],
      "metadata": {
        "colab": {
          "base_uri": "https://localhost:8080/",
          "height": 216
        },
        "id": "OFeEFoX3Cdhu",
        "outputId": "ef130ab5-62ff-4eac-ed2e-ca8716e8dfe7"
      },
      "execution_count": 62,
      "outputs": [
        {
          "output_type": "error",
          "ename": "NameError",
          "evalue": "name 'pred' is not defined",
          "traceback": [
            "\u001b[0;31m---------------------------------------------------------------------------\u001b[0m",
            "\u001b[0;31mNameError\u001b[0m                                 Traceback (most recent call last)",
            "\u001b[0;32m<ipython-input-62-9d8b216eafd7>\u001b[0m in \u001b[0;36m<cell line: 1>\u001b[0;34m()\u001b[0m\n\u001b[0;32m----> 1\u001b[0;31m \u001b[0mdf\u001b[0m\u001b[0;34m[\u001b[0m\u001b[0;34m'pred'\u001b[0m\u001b[0;34m]\u001b[0m \u001b[0;34m=\u001b[0m \u001b[0mpred\u001b[0m\u001b[0;34m\u001b[0m\u001b[0;34m\u001b[0m\u001b[0m\n\u001b[0m\u001b[1;32m      2\u001b[0m \u001b[0myy\u001b[0m \u001b[0;34m=\u001b[0m \u001b[0mdf\u001b[0m\u001b[0;34m.\u001b[0m\u001b[0miloc\u001b[0m\u001b[0;34m[\u001b[0m\u001b[0;34m:\u001b[0m\u001b[0;36m1999\u001b[0m\u001b[0;34m]\u001b[0m\u001b[0;34m\u001b[0m\u001b[0;34m\u001b[0m\u001b[0m\n\u001b[1;32m      3\u001b[0m \u001b[0my_true\u001b[0m \u001b[0;34m=\u001b[0m \u001b[0myy\u001b[0m\u001b[0;34m[\u001b[0m\u001b[0;34m'type'\u001b[0m\u001b[0;34m]\u001b[0m\u001b[0;34m\u001b[0m\u001b[0;34m\u001b[0m\u001b[0m\n\u001b[1;32m      4\u001b[0m \u001b[0my_pred\u001b[0m \u001b[0;34m=\u001b[0m \u001b[0myy\u001b[0m\u001b[0;34m[\u001b[0m\u001b[0;34m'pred'\u001b[0m\u001b[0;34m]\u001b[0m\u001b[0;34m\u001b[0m\u001b[0;34m\u001b[0m\u001b[0m\n\u001b[1;32m      5\u001b[0m \u001b[0;34m\u001b[0m\u001b[0m\n",
            "\u001b[0;31mNameError\u001b[0m: name 'pred' is not defined"
          ]
        }
      ]
    },
    {
      "cell_type": "code",
      "source": [
        "df[df['type'] == 'neutral']['pred'].value_counts()"
      ],
      "metadata": {
        "id": "n1hrXqZoCg1H"
      },
      "execution_count": null,
      "outputs": []
    }
  ]
}